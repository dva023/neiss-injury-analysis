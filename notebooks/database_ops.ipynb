{
 "cells": [
  {
   "cell_type": "code",
   "execution_count": null,
   "metadata": {},
   "outputs": [
    {
     "name": "stdout",
     "output_type": "stream",
     "text": [
      "[{'x': ['x1'], 'y': ['y1'], 'body_part': ['1']}, {'x': ['x2'], 'y': ['y2'], 'body_part': ['2']}]\n"
     ]
    }
   ],
   "source": [
    "import requests\n",
    "\n",
    "class BodyPart:\n",
    "    def __init__(self, anon_key: str):\n",
    "        self.base_url = 'https://yycdsqhuunhjztzvzwfc.supabase.co/rest/v1/neiss'\n",
    "        self.headers = {\n",
    "            'apikey': anon_key,\n",
    "            'Authorization': f'Bearer {anon_key}',\n",
    "            'Content-Type': 'application/json',\n",
    "            'Prefer': 'return=minimal'\n",
    "        }\n",
    "    \n",
    "    def delete_all(self):\n",
    "        response = requests.delete(\n",
    "            f'{self.base_url}?identifier=eq.1',\n",
    "            headers=self.headers\n",
    "        )\n",
    "        return response.status_code < 400\n",
    "    \n",
    "    def insert_all(self, data):\n",
    "        response = requests.post(\n",
    "            self.base_url,\n",
    "            headers=self.headers,\n",
    "            json=data\n",
    "        )\n",
    "        return response.status_code < 400\n",
    "    \n",
    "    def get_all(self):\n",
    "        response = requests.get(\n",
    "            f'{self.base_url}?select=x,y,body_part',\n",
    "            headers=self.headers\n",
    "        )\n",
    "        return response.json() if response.status_code < 400 else []\n",
    "\n",
    "# =================== Example usage =================\n",
    "\n",
    "client = BodyPart(anon_key=\"\") # put the key here\n",
    "\n",
    "# Delete all existing records\n",
    "client.delete_all()\n",
    "\n",
    "# Insert multiple records\n",
    "data = [\n",
    "    {\n",
    "        'x': ['x1'],\n",
    "        'y': ['y1'],\n",
    "        'body_part': ['1']\n",
    "    },\n",
    "    {\n",
    "        'x': ['x2'],\n",
    "        'y': ['y2'],\n",
    "        'body_part': ['2']\n",
    "    }\n",
    "]\n",
    "client.insert_all(data)\n",
    "\n",
    "# Read all records\n",
    "records = client.get_all()\n",
    "print(records)"
   ]
  }
 ],
 "metadata": {
  "kernelspec": {
   "display_name": ".venv",
   "language": "python",
   "name": "python3"
  },
  "language_info": {
   "codemirror_mode": {
    "name": "ipython",
    "version": 3
   },
   "file_extension": ".py",
   "mimetype": "text/x-python",
   "name": "python",
   "nbconvert_exporter": "python",
   "pygments_lexer": "ipython3",
   "version": "3.10.10"
  }
 },
 "nbformat": 4,
 "nbformat_minor": 2
}
