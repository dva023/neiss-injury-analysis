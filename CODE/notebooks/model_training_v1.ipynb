{
 "cells": [
  {
   "cell_type": "code",
   "execution_count": 1,
   "metadata": {
    "colab": {
     "base_uri": "https://localhost:8080/"
    },
    "gather": {
     "logged": 1731356047312
    },
    "id": "Ep2ZO7eSSuvg",
    "outputId": "3c5a5bb2-ff96-43cd-a1ab-611da0331e9e"
   },
   "outputs": [
    {
     "name": "stdout",
     "output_type": "stream",
     "text": [
      "Requirement already satisfied: nltk in /home/eric/miniconda3/envs/neiss/lib/python3.12/site-packages (3.9.1)\n",
      "Requirement already satisfied: click in /home/eric/miniconda3/envs/neiss/lib/python3.12/site-packages (from nltk) (8.1.7)\n",
      "Requirement already satisfied: joblib in /home/eric/miniconda3/envs/neiss/lib/python3.12/site-packages (from nltk) (1.4.2)\n",
      "Requirement already satisfied: regex>=2021.8.3 in /home/eric/miniconda3/envs/neiss/lib/python3.12/site-packages (from nltk) (2024.11.6)\n",
      "Requirement already satisfied: tqdm in /home/eric/miniconda3/envs/neiss/lib/python3.12/site-packages (from nltk) (4.66.6)\n",
      "Requirement already satisfied: xgboost in /home/eric/miniconda3/envs/neiss/lib/python3.12/site-packages (2.1.1)\n",
      "Requirement already satisfied: numpy in /home/eric/miniconda3/envs/neiss/lib/python3.12/site-packages (from xgboost) (2.0.2)\n",
      "Requirement already satisfied: scipy in /home/eric/miniconda3/envs/neiss/lib/python3.12/site-packages (from xgboost) (1.14.1)\n",
      "Requirement already satisfied: imblearn in /home/eric/miniconda3/envs/neiss/lib/python3.12/site-packages (0.0)\n",
      "Requirement already satisfied: imbalanced-learn in /home/eric/miniconda3/envs/neiss/lib/python3.12/site-packages (from imblearn) (0.12.4)\n",
      "Requirement already satisfied: numpy>=1.17.3 in /home/eric/miniconda3/envs/neiss/lib/python3.12/site-packages (from imbalanced-learn->imblearn) (2.0.2)\n",
      "Requirement already satisfied: scipy>=1.5.0 in /home/eric/miniconda3/envs/neiss/lib/python3.12/site-packages (from imbalanced-learn->imblearn) (1.14.1)\n",
      "Requirement already satisfied: scikit-learn>=1.0.2 in /home/eric/miniconda3/envs/neiss/lib/python3.12/site-packages (from imbalanced-learn->imblearn) (1.5.2)\n",
      "Requirement already satisfied: joblib>=1.1.1 in /home/eric/miniconda3/envs/neiss/lib/python3.12/site-packages (from imbalanced-learn->imblearn) (1.4.2)\n",
      "Requirement already satisfied: threadpoolctl>=2.0.0 in /home/eric/miniconda3/envs/neiss/lib/python3.12/site-packages (from imbalanced-learn->imblearn) (3.5.0)\n"
     ]
    }
   ],
   "source": [
    "!pip install nltk\n",
    "!pip install xgboost\n",
    "!pip install imblearn"
   ]
  },
  {
   "cell_type": "code",
   "execution_count": 2,
   "metadata": {
    "colab": {
     "base_uri": "https://localhost:8080/"
    },
    "gather": {
     "logged": 1731356080975
    },
    "id": "TewOpoBcSuvl",
    "outputId": "ba037cfa-981e-4bcc-e13c-f0d2c13b0f68"
   },
   "outputs": [
    {
     "name": "stderr",
     "output_type": "stream",
     "text": [
      "/tmp/ipykernel_133368/2972854866.py:8: DtypeWarning: Columns (12) have mixed types. Specify dtype option on import or set low_memory=False.\n",
      "  data_sample = pd.read_csv('../data/neiss_sample_10p.csv') if data_size == '10p' else pd.read_csv('../data/neiss_2014_2023_consolidated_cleaned.csv')\n"
     ]
    },
    {
     "name": "stdout",
     "output_type": "stream",
     "text": [
      "   CPSC_Case_Number         0         1         2         3         4  \\\n",
      "0         140103999 -0.022808  0.007418  0.027467 -0.012784  0.065578   \n",
      "1         140104001 -0.026905  0.023876  0.032426 -0.036448  0.052163   \n",
      "2         140104003 -0.022458 -0.034115  0.086562  0.027872 -0.017475   \n",
      "3         140104670 -0.021107 -0.035272  0.060965 -0.047719  0.004092   \n",
      "4         140104672 -0.021438 -0.023495  0.031477 -0.029871 -0.016338   \n",
      "5         140104673 -0.052032 -0.049892  0.025444 -0.027536 -0.057302   \n",
      "6         140104932 -0.078086 -0.010331  0.009909 -0.007419 -0.006639   \n",
      "7         140104935 -0.083388 -0.037182  0.015887  0.000648 -0.012845   \n",
      "8         140104936 -0.042653  0.020750  0.026169  0.019812  0.014350   \n",
      "9         140104937 -0.007815 -0.016453  0.031914  0.014136 -0.054775   \n",
      "\n",
      "          5         6         7         8  ...       374       375       376  \\\n",
      "0  0.000021  0.085643  0.013887 -0.004115  ...  0.036178  0.025958 -0.039153   \n",
      "1  0.016243  0.069046  0.048201 -0.042924  ...  0.001678 -0.015718 -0.034743   \n",
      "2  0.035831  0.075362  0.066578  0.029020  ...  0.033147 -0.031686 -0.025193   \n",
      "3 -0.030488  0.082513  0.047852  0.004024  ... -0.051164 -0.067823  0.006062   \n",
      "4  0.063439  0.031051  0.068447 -0.001414  ...  0.021603  0.010978  0.012187   \n",
      "5  0.031145  0.031333  0.041782 -0.021437  ...  0.071223 -0.050546 -0.060549   \n",
      "6  0.098523  0.058974  0.073516  0.033975  ...  0.030867 -0.029558 -0.026124   \n",
      "7  0.093142  0.068937  0.074756  0.016587  ...  0.039566 -0.024980 -0.024816   \n",
      "8  0.062588  0.041447  0.045027  0.006024  ...  0.051295 -0.036137  0.016142   \n",
      "9  0.055984  0.123381 -0.006978  0.005660  ...  0.010309 -0.026364 -0.040421   \n",
      "\n",
      "        377       378       379       380       381       382       383  \n",
      "0  0.030998 -0.036593 -0.015551 -0.028230 -0.049370  0.037316  0.069519  \n",
      "1  0.029062  0.047233 -0.027738 -0.049260  0.009754 -0.000638  0.019649  \n",
      "2 -0.048929 -0.055719 -0.011231 -0.062054 -0.023576 -0.011888  0.030310  \n",
      "3 -0.008430 -0.001242  0.018775  0.020745 -0.003641 -0.034434  0.058451  \n",
      "4  0.006838 -0.048688 -0.024933 -0.088906 -0.003716  0.028649 -0.001607  \n",
      "5 -0.009926 -0.035204  0.016478 -0.048710 -0.033192  0.018262  0.023770  \n",
      "6 -0.031564 -0.087054  0.038977 -0.095504 -0.067776 -0.013542  0.012092  \n",
      "7 -0.031454 -0.084133  0.050137 -0.118178 -0.064036 -0.033038  0.029735  \n",
      "8 -0.011957 -0.065258 -0.039426 -0.054766 -0.040898 -0.027868  0.012258  \n",
      "9 -0.056974 -0.009707 -0.001212 -0.031445 -0.036357  0.039668  0.060905  \n",
      "\n",
      "[10 rows x 385 columns]\n"
     ]
    }
   ],
   "source": [
    "import pandas as pd\n",
    "\n",
    "\n",
    "# data_size = '10p'\n",
    "data_size = 'full'\n",
    "version = 'v1'\n",
    "\n",
    "data_sample = pd.read_csv('../data/neiss_sample_10p.csv') if data_size == '10p' else pd.read_csv('../data/neiss_2014_2023_consolidated_cleaned.csv')\n",
    "embedding=pd.read_csv(f'../data/neiss_sample_{data_size}_embedding_{version}.csv')\n",
    "print(embedding.head(10))"
   ]
  },
  {
   "cell_type": "code",
   "execution_count": 3,
   "metadata": {
    "gather": {
     "logged": 1731356083629
    },
    "id": "beScWjdtSuvn",
    "jupyter": {
     "outputs_hidden": false,
     "source_hidden": false
    },
    "nteract": {
     "transient": {
      "deleting": false
     }
    }
   },
   "outputs": [
    {
     "name": "stdout",
     "output_type": "stream",
     "text": [
      "(3520522, 391)\n",
      "['CPSC_Case_Number', 'Age', 'Sex', 'Body_Part', 'Location', 'Product_1', 'Disposition', '0', '1', '2', '3', '4', '5', '6', '7', '8', '9', '10', '11', '12', '13', '14', '15', '16', '17', '18', '19', '20', '21', '22', '23', '24', '25', '26', '27', '28', '29', '30', '31', '32', '33', '34', '35', '36', '37', '38', '39', '40', '41', '42', '43', '44', '45', '46', '47', '48', '49', '50', '51', '52', '53', '54', '55', '56', '57', '58', '59', '60', '61', '62', '63', '64', '65', '66', '67', '68', '69', '70', '71', '72', '73', '74', '75', '76', '77', '78', '79', '80', '81', '82', '83', '84', '85', '86', '87', '88', '89', '90', '91', '92', '93', '94', '95', '96', '97', '98', '99', '100', '101', '102', '103', '104', '105', '106', '107', '108', '109', '110', '111', '112', '113', '114', '115', '116', '117', '118', '119', '120', '121', '122', '123', '124', '125', '126', '127', '128', '129', '130', '131', '132', '133', '134', '135', '136', '137', '138', '139', '140', '141', '142', '143', '144', '145', '146', '147', '148', '149', '150', '151', '152', '153', '154', '155', '156', '157', '158', '159', '160', '161', '162', '163', '164', '165', '166', '167', '168', '169', '170', '171', '172', '173', '174', '175', '176', '177', '178', '179', '180', '181', '182', '183', '184', '185', '186', '187', '188', '189', '190', '191', '192', '193', '194', '195', '196', '197', '198', '199', '200', '201', '202', '203', '204', '205', '206', '207', '208', '209', '210', '211', '212', '213', '214', '215', '216', '217', '218', '219', '220', '221', '222', '223', '224', '225', '226', '227', '228', '229', '230', '231', '232', '233', '234', '235', '236', '237', '238', '239', '240', '241', '242', '243', '244', '245', '246', '247', '248', '249', '250', '251', '252', '253', '254', '255', '256', '257', '258', '259', '260', '261', '262', '263', '264', '265', '266', '267', '268', '269', '270', '271', '272', '273', '274', '275', '276', '277', '278', '279', '280', '281', '282', '283', '284', '285', '286', '287', '288', '289', '290', '291', '292', '293', '294', '295', '296', '297', '298', '299', '300', '301', '302', '303', '304', '305', '306', '307', '308', '309', '310', '311', '312', '313', '314', '315', '316', '317', '318', '319', '320', '321', '322', '323', '324', '325', '326', '327', '328', '329', '330', '331', '332', '333', '334', '335', '336', '337', '338', '339', '340', '341', '342', '343', '344', '345', '346', '347', '348', '349', '350', '351', '352', '353', '354', '355', '356', '357', '358', '359', '360', '361', '362', '363', '364', '365', '366', '367', '368', '369', '370', '371', '372', '373', '374', '375', '376', '377', '378', '379', '380', '381', '382', '383']\n",
      "   CPSC_Case_Number  Age  Sex  Body_Part  Location  Product_1  Disposition  \\\n",
      "0         140103999   32    1         31         0       1211            1   \n",
      "1         140104001   18    1         82         1        910            1   \n",
      "2         140104003   31    2         37         1       1807            1   \n",
      "3         140104670   53    2         82         1        478            1   \n",
      "4         140104672   23    1         30         9       3286            1   \n",
      "5         140104673  214    1         88         1       1685            1   \n",
      "6         140104932   15    1         79         9       3255            1   \n",
      "7         140104935   40    1         75         9       3255            4   \n",
      "8         140104936    4    1         34         1        661            1   \n",
      "9         140104937    2    1         76         1       1345            1   \n",
      "\n",
      "          0         1         2  ...       374       375       376       377  \\\n",
      "0 -0.022808  0.007418  0.027467  ...  0.036178  0.025958 -0.039153  0.030998   \n",
      "1 -0.026905  0.023876  0.032426  ...  0.001678 -0.015718 -0.034743  0.029062   \n",
      "2 -0.022458 -0.034115  0.086562  ...  0.033147 -0.031686 -0.025193 -0.048929   \n",
      "3 -0.021107 -0.035272  0.060965  ... -0.051164 -0.067823  0.006062 -0.008430   \n",
      "4 -0.021438 -0.023495  0.031477  ...  0.021603  0.010978  0.012187  0.006838   \n",
      "5 -0.052032 -0.049892  0.025444  ...  0.071223 -0.050546 -0.060549 -0.009926   \n",
      "6 -0.078086 -0.010331  0.009909  ...  0.030867 -0.029558 -0.026124 -0.031564   \n",
      "7 -0.083388 -0.037182  0.015887  ...  0.039566 -0.024980 -0.024816 -0.031454   \n",
      "8 -0.042653  0.020750  0.026169  ...  0.051295 -0.036137  0.016142 -0.011957   \n",
      "9 -0.007815 -0.016453  0.031914  ...  0.010309 -0.026364 -0.040421 -0.056974   \n",
      "\n",
      "        378       379       380       381       382       383  \n",
      "0 -0.036593 -0.015551 -0.028230 -0.049370  0.037316  0.069519  \n",
      "1  0.047233 -0.027738 -0.049260  0.009754 -0.000638  0.019649  \n",
      "2 -0.055719 -0.011231 -0.062054 -0.023576 -0.011888  0.030310  \n",
      "3 -0.001242  0.018775  0.020745 -0.003641 -0.034434  0.058451  \n",
      "4 -0.048688 -0.024933 -0.088906 -0.003716  0.028649 -0.001607  \n",
      "5 -0.035204  0.016478 -0.048710 -0.033192  0.018262  0.023770  \n",
      "6 -0.087054  0.038977 -0.095504 -0.067776 -0.013542  0.012092  \n",
      "7 -0.084133  0.050137 -0.118178 -0.064036 -0.033038  0.029735  \n",
      "8 -0.065258 -0.039426 -0.054766 -0.040898 -0.027868  0.012258  \n",
      "9 -0.009707 -0.001212 -0.031445 -0.036357  0.039668  0.060905  \n",
      "\n",
      "[10 rows x 391 columns]\n"
     ]
    }
   ],
   "source": [
    "import gc\n",
    "data_merged = data_sample[['CPSC_Case_Number', 'Age', 'Sex', 'Body_Part', 'Location', 'Product_1', 'Disposition']].merge(embedding,how='inner',on='CPSC_Case_Number').reset_index(drop=True)\n",
    "print(data_merged.shape)\n",
    "print(list(data_merged.columns))\n",
    "print(data_merged.head(10))\n",
    "del data_sample\n",
    "del embedding\n",
    "gc.collect()\n",
    "\n",
    "data = data_merged"
   ]
  },
  {
   "cell_type": "code",
   "execution_count": 4,
   "metadata": {},
   "outputs": [],
   "source": [
    "# sampe the data with 10%, 20% and 50% of the data\n",
    "\n",
    "# for fraction in [0.1, 0.2, 0.5, 1.0]:\n",
    "#     data_resample = data_merged.sample(frac=fraction,random_state=42).reset_index(drop=True)\n",
    "#     data_resample.to_csv(f'../data/neiss_sample_{int(fraction*100)}p_merged_embedding_{version}.csv',index=False)\n",
    "#     del data_resample\n",
    "\n",
    "# gc.collect()"
   ]
  },
  {
   "cell_type": "code",
   "execution_count": 5,
   "metadata": {},
   "outputs": [],
   "source": [
    "# %reset -f\n",
    "\n",
    "# data_size = '100p'\n",
    "# version = 'v1'\n",
    "# import pandas as pd\n",
    "# data = pd.read_csv(f'../data/neiss_sample_{data_size}_merged_embedding_{version}.csv')"
   ]
  },
  {
   "cell_type": "code",
   "execution_count": 6,
   "metadata": {
    "colab": {
     "base_uri": "https://localhost:8080/"
    },
    "gather": {
     "logged": 1731356084072
    },
    "id": "Z2MmeEXYSuvn",
    "outputId": "7bc842c4-2ee1-45ab-8a6a-70e2e5116f4b"
   },
   "outputs": [
    {
     "name": "stdout",
     "output_type": "stream",
     "text": [
      "['CPSC_Case_Number', 'Age', 'Sex', 'Body_Part', 'Location', 'Product_1', 'Disposition', '0', '1', '2', '3', '4', '5', '6', '7', '8', '9', '10', '11', '12', '13', '14', '15', '16', '17', '18', '19', '20', '21', '22', '23', '24', '25', '26', '27', '28', '29', '30', '31', '32', '33', '34', '35', '36', '37', '38', '39', '40', '41', '42', '43', '44', '45', '46', '47', '48', '49', '50', '51', '52', '53', '54', '55', '56', '57', '58', '59', '60', '61', '62', '63', '64', '65', '66', '67', '68', '69', '70', '71', '72', '73', '74', '75', '76', '77', '78', '79', '80', '81', '82', '83', '84', '85', '86', '87', '88', '89', '90', '91', '92', '93', '94', '95', '96', '97', '98', '99', '100', '101', '102', '103', '104', '105', '106', '107', '108', '109', '110', '111', '112', '113', '114', '115', '116', '117', '118', '119', '120', '121', '122', '123', '124', '125', '126', '127', '128', '129', '130', '131', '132', '133', '134', '135', '136', '137', '138', '139', '140', '141', '142', '143', '144', '145', '146', '147', '148', '149', '150', '151', '152', '153', '154', '155', '156', '157', '158', '159', '160', '161', '162', '163', '164', '165', '166', '167', '168', '169', '170', '171', '172', '173', '174', '175', '176', '177', '178', '179', '180', '181', '182', '183', '184', '185', '186', '187', '188', '189', '190', '191', '192', '193', '194', '195', '196', '197', '198', '199', '200', '201', '202', '203', '204', '205', '206', '207', '208', '209', '210', '211', '212', '213', '214', '215', '216', '217', '218', '219', '220', '221', '222', '223', '224', '225', '226', '227', '228', '229', '230', '231', '232', '233', '234', '235', '236', '237', '238', '239', '240', '241', '242', '243', '244', '245', '246', '247', '248', '249', '250', '251', '252', '253', '254', '255', '256', '257', '258', '259', '260', '261', '262', '263', '264', '265', '266', '267', '268', '269', '270', '271', '272', '273', '274', '275', '276', '277', '278', '279', '280', '281', '282', '283', '284', '285', '286', '287', '288', '289', '290', '291', '292', '293', '294', '295', '296', '297', '298', '299', '300', '301', '302', '303', '304', '305', '306', '307', '308', '309', '310', '311', '312', '313', '314', '315', '316', '317', '318', '319', '320', '321', '322', '323', '324', '325', '326', '327', '328', '329', '330', '331', '332', '333', '334', '335', '336', '337', '338', '339', '340', '341', '342', '343', '344', '345', '346', '347', '348', '349', '350', '351', '352', '353', '354', '355', '356', '357', '358', '359', '360', '361', '362', '363', '364', '365', '366', '367', '368', '369', '370', '371', '372', '373', '374', '375', '376', '377', '378', '379', '380', '381', '382', '383']\n"
     ]
    }
   ],
   "source": [
    "print(list(data.columns))"
   ]
  },
  {
   "cell_type": "code",
   "execution_count": 7,
   "metadata": {
    "gather": {
     "logged": 1731356084997
    },
    "id": "Hl2DVUmBSuvo",
    "jupyter": {
     "outputs_hidden": false,
     "source_hidden": false
    },
    "nteract": {
     "transient": {
      "deleting": false
     }
    }
   },
   "outputs": [
    {
     "name": "stderr",
     "output_type": "stream",
     "text": [
      "/tmp/ipykernel_133368/4199625934.py:10: SettingWithCopyWarning: \n",
      "A value is trying to be set on a copy of a slice from a DataFrame.\n",
      "Try using .loc[row_indexer,col_indexer] = value instead\n",
      "\n",
      "See the caveats in the documentation: https://pandas.pydata.org/pandas-docs/stable/user_guide/indexing.html#returning-a-view-versus-a-copy\n",
      "  data['Disposition_recode_2']=0\n"
     ]
    }
   ],
   "source": [
    "import numpy as np\n",
    "data['Disposition_recode']=np.nan\n",
    "data.loc[((data['Disposition']==1)), 'Disposition_recode'] = 0\n",
    "data.loc[((data['Disposition']==2)), 'Disposition_recode'] = 1\n",
    "data.loc[((data['Disposition']==4)), 'Disposition_recode'] = 2\n",
    "data.loc[((data['Disposition']==5)), 'Disposition_recode'] = 3\n",
    "data.loc[((data['Disposition']==8)), 'Disposition_recode'] = 4\n",
    "data=data[data['Disposition_recode'].notna()]\n",
    "\n",
    "data['Disposition_recode_2']=0\n",
    "data.loc[((data['Disposition_recode']>0)), 'Disposition_recode_2'] = 1"
   ]
  },
  {
   "cell_type": "code",
   "execution_count": 8,
   "metadata": {
    "colab": {
     "base_uri": "https://localhost:8080/",
     "height": 178
    },
    "gather": {
     "logged": 1731356085456
    },
    "id": "-F6fNn4qSuvp",
    "jupyter": {
     "outputs_hidden": false,
     "source_hidden": false
    },
    "nteract": {
     "transient": {
      "deleting": false
     }
    },
    "outputId": "83487658-fa6a-4e85-c06f-6fe9f2b3f3e3"
   },
   "outputs": [
    {
     "data": {
      "text/plain": [
       "Disposition_recode_2\n",
       "0    2958896\n",
       "1     331785\n",
       "Name: count, dtype: int64"
      ]
     },
     "execution_count": 8,
     "metadata": {},
     "output_type": "execute_result"
    }
   ],
   "source": [
    "data=data[(data['Body_Part']!=0) & (data['Body_Part']!=84) & (data['Body_Part']!=85) & (data['Body_Part']!=86) & (data['Body_Part']!=87)]\n",
    "data['Disposition_recode'].value_counts()\n",
    "data['Disposition_recode_2'].value_counts()"
   ]
  },
  {
   "cell_type": "code",
   "execution_count": 9,
   "metadata": {
    "gather": {
     "logged": 1731356085889
    },
    "id": "ElkGxOnwSuvp",
    "jupyter": {
     "outputs_hidden": false,
     "source_hidden": false
    },
    "nteract": {
     "transient": {
      "deleting": false
     }
    }
   },
   "outputs": [],
   "source": [
    "bdpt_dict={}\n",
    "bdpt_dict[0]='INTERNAL'\n",
    "bdpt_dict[30]='SHOULDER'\n",
    "bdpt_dict[31]='UPPERTRUNK'\n",
    "bdpt_dict[32]='ELBOW'\n",
    "bdpt_dict[33]='LOWERARM'\n",
    "bdpt_dict[34]='WRIST'\n",
    "bdpt_dict[35]='KNEE'\n",
    "bdpt_dict[36]='LOWERLEG'\n",
    "bdpt_dict[37]='ANKLE'\n",
    "bdpt_dict[38]='PUBICREGION'\n",
    "bdpt_dict[75]='HEAD'\n",
    "bdpt_dict[76]='FACE'\n",
    "bdpt_dict[77]='EYEBALL'\n",
    "bdpt_dict[78]='UPPERTRUNK(OLD)'\n",
    "bdpt_dict[79]='LOWERTRUNK'\n",
    "bdpt_dict[80]='UPPERARM'\n",
    "bdpt_dict[81]='UPPERLEG'\n",
    "bdpt_dict[82]='HAND'\n",
    "bdpt_dict[83]='FOOT'\n",
    "bdpt_dict[84]='25-50% OF BODY'\n",
    "bdpt_dict[85]='ALLPARTSBODY'\n",
    "bdpt_dict[86]='OTHER(OLD)'\n",
    "bdpt_dict[87]='NOTSTATED/UNK'\n",
    "bdpt_dict[88]='MOUTH'\n",
    "bdpt_dict[89]='NECK'\n",
    "bdpt_dict[90]='LOWERARM(OLD)'\n",
    "bdpt_dict[91]='LOWERLEG(OLD)'\n",
    "bdpt_dict[92]='FINGER'\n",
    "bdpt_dict[93]='TOE'\n",
    "bdpt_dict[94]='EAR'\n"
   ]
  },
  {
   "cell_type": "code",
   "execution_count": 10,
   "metadata": {
    "colab": {
     "base_uri": "https://localhost:8080/"
    },
    "gather": {
     "logged": 1731356086093
    },
    "id": "Vqt8qW5ISuvq",
    "jupyter": {
     "outputs_hidden": false,
     "source_hidden": false
    },
    "nteract": {
     "transient": {
      "deleting": false
     }
    },
    "outputId": "18bf6f0f-4106-4635-89d7-8a1a4dccd0ea"
   },
   "outputs": [],
   "source": [
    "data['body_string']=data['Body_Part'].map(bdpt_dict)\n",
    "# data['Narrative_LLM']=data[\"activity_at_injury\"].astype(str) + ' '+data[\"injury_mechanism\"].astype(str)+ ' ' + data[\"object_involved\"].astype(str)"
   ]
  },
  {
   "cell_type": "code",
   "execution_count": 11,
   "metadata": {
    "colab": {
     "base_uri": "https://localhost:8080/"
    },
    "gather": {
     "logged": 1731356087107
    },
    "id": "W1uj4VCWSuvq",
    "jupyter": {
     "outputs_hidden": false,
     "source_hidden": false
    },
    "nteract": {
     "transient": {
      "deleting": false
     }
    },
    "outputId": "b7ba07b3-3e93-46f8-e3e0-9fc05f59ed10"
   },
   "outputs": [
    {
     "name": "stdout",
     "output_type": "stream",
     "text": [
      "Original dataset shape: (3290681, 394)\n",
      "Train set size: 2632545 rows\n",
      "Test set size: 658136 rows\n"
     ]
    },
    {
     "data": {
      "text/plain": [
       "Index(['CPSC_Case_Number', 'Age', 'Sex', 'Body_Part', 'Location', 'Product_1',\n",
       "       'Disposition', '0', '1', '2',\n",
       "       ...\n",
       "       '377', '378', '379', '380', '381', '382', '383', 'Disposition_recode',\n",
       "       'Disposition_recode_2', 'body_string'],\n",
       "      dtype='object', length=394)"
      ]
     },
     "execution_count": 11,
     "metadata": {},
     "output_type": "execute_result"
    }
   ],
   "source": [
    "\n",
    "import gc\n",
    "total_rows, n_columns = data.shape\n",
    "\n",
    "test_size = int(total_rows * 0.2)\n",
    "train_size = total_rows - test_size\n",
    "\n",
    "print(f\"Original dataset shape: ({total_rows}, {n_columns})\")\n",
    "print(f\"Train set size: {train_size} rows\")\n",
    "print(f\"Test set size: {test_size} rows\")\n",
    "data = data.sample(frac=1,random_state=42).reset_index(drop=True)\n",
    "\n",
    "data_ready = data.tail(train_size).reset_index(drop=True)\n",
    "data_ready_test = data.head(test_size).reset_index(drop=True)\n",
    "del data\n",
    "gc.collect()\n",
    "\n",
    "# data_test=data_core.head(21000).reset_index(drop=True)\n",
    "# data_fit=data_core.tail(191347).reset_index(drop=True)\n",
    "# df_bad=data_fit[data_fit['Disposition_recode_2']==1]\n",
    "# df_good=data_fit[data_fit['Disposition_recode_2']==0]\n",
    "# data_good_sample=df_good.sample(frac=0.2,random_state=42).reset_index(drop=True)\n",
    "# data_bad_sample=df_bad.sample(frac=0.8,random_state=42).reset_index(drop=True)\n",
    "# data_core_sample=pd.concat([data_good_sample,data_bad_sample]).reset_index(drop=True)\n",
    "# data_core_sample=data_core_sample.sample(frac=1,random_state=42).reset_index(drop=True)\n",
    "# data_core_sample.head()\n",
    "\n",
    "# data_ready = data_core_sample\n",
    "# data_ready_test = data_test\n",
    "data_ready.columns"
   ]
  },
  {
   "cell_type": "code",
   "execution_count": 12,
   "metadata": {
    "gather": {
     "logged": 1731356087479
    },
    "id": "AWOwowyFSuvr",
    "jupyter": {
     "outputs_hidden": false,
     "source_hidden": false
    },
    "nteract": {
     "transient": {
      "deleting": false
     }
    }
   },
   "outputs": [],
   "source": [
    "drop_list=[\n",
    " 'CPSC_Case_Number',\n",
    " 'Disposition',\n",
    " 'Disposition_recode',\n",
    " 'Disposition_recode_2',\n",
    " 'body_string',\n",
    "]\n",
    "\n",
    "drop_list_test = drop_list"
   ]
  },
  {
   "cell_type": "code",
   "execution_count": 13,
   "metadata": {
    "colab": {
     "base_uri": "https://localhost:8080/"
    },
    "gather": {
     "logged": 1731356087709
    },
    "id": "f4yRb_SMSuvs",
    "outputId": "6ca480ee-8bdd-47da-b33e-1db57aeb6c18"
   },
   "outputs": [
    {
     "name": "stdout",
     "output_type": "stream",
     "text": [
      "['Age', 'Sex', 'Body_Part', 'Location', 'Product_1', '0', '1', '2', '3', '4', '5', '6', '7', '8', '9', '10', '11', '12', '13', '14', '15', '16', '17', '18', '19', '20', '21', '22', '23', '24', '25', '26', '27', '28', '29', '30', '31', '32', '33', '34', '35', '36', '37', '38', '39', '40', '41', '42', '43', '44', '45', '46', '47', '48', '49', '50', '51', '52', '53', '54', '55', '56', '57', '58', '59', '60', '61', '62', '63', '64', '65', '66', '67', '68', '69', '70', '71', '72', '73', '74', '75', '76', '77', '78', '79', '80', '81', '82', '83', '84', '85', '86', '87', '88', '89', '90', '91', '92', '93', '94', '95', '96', '97', '98', '99', '100', '101', '102', '103', '104', '105', '106', '107', '108', '109', '110', '111', '112', '113', '114', '115', '116', '117', '118', '119', '120', '121', '122', '123', '124', '125', '126', '127', '128', '129', '130', '131', '132', '133', '134', '135', '136', '137', '138', '139', '140', '141', '142', '143', '144', '145', '146', '147', '148', '149', '150', '151', '152', '153', '154', '155', '156', '157', '158', '159', '160', '161', '162', '163', '164', '165', '166', '167', '168', '169', '170', '171', '172', '173', '174', '175', '176', '177', '178', '179', '180', '181', '182', '183', '184', '185', '186', '187', '188', '189', '190', '191', '192', '193', '194', '195', '196', '197', '198', '199', '200', '201', '202', '203', '204', '205', '206', '207', '208', '209', '210', '211', '212', '213', '214', '215', '216', '217', '218', '219', '220', '221', '222', '223', '224', '225', '226', '227', '228', '229', '230', '231', '232', '233', '234', '235', '236', '237', '238', '239', '240', '241', '242', '243', '244', '245', '246', '247', '248', '249', '250', '251', '252', '253', '254', '255', '256', '257', '258', '259', '260', '261', '262', '263', '264', '265', '266', '267', '268', '269', '270', '271', '272', '273', '274', '275', '276', '277', '278', '279', '280', '281', '282', '283', '284', '285', '286', '287', '288', '289', '290', '291', '292', '293', '294', '295', '296', '297', '298', '299', '300', '301', '302', '303', '304', '305', '306', '307', '308', '309', '310', '311', '312', '313', '314', '315', '316', '317', '318', '319', '320', '321', '322', '323', '324', '325', '326', '327', '328', '329', '330', '331', '332', '333', '334', '335', '336', '337', '338', '339', '340', '341', '342', '343', '344', '345', '346', '347', '348', '349', '350', '351', '352', '353', '354', '355', '356', '357', '358', '359', '360', '361', '362', '363', '364', '365', '366', '367', '368', '369', '370', '371', '372', '373', '374', '375', '376', '377', '378', '379', '380', '381', '382', '383']\n"
     ]
    }
   ],
   "source": [
    "X = data_ready.drop(drop_list, axis=1)\n",
    "y = data_ready['Disposition_recode_2']\n",
    "\n",
    "print(list(X.columns))"
   ]
  },
  {
   "cell_type": "code",
   "execution_count": 14,
   "metadata": {
    "gather": {
     "logged": 1731356826351
    },
    "id": "ZvGIVnJTSuvt",
    "jupyter": {
     "outputs_hidden": false,
     "source_hidden": false
    },
    "nteract": {
     "transient": {
      "deleting": false
     }
    }
   },
   "outputs": [
    {
     "name": "stdout",
     "output_type": "stream",
     "text": [
      "Accuracy: 0.9117234127900616\n",
      "F1 Score: 0.4494854738757178\n",
      "AUC: 0.8728758726652937\n",
      "              precision    recall  f1-score   support\n",
      "\n",
      "           0       0.93      0.97      0.95    591795\n",
      "           1       0.61      0.36      0.45     66341\n",
      "\n",
      "    accuracy                           0.91    658136\n",
      "   macro avg       0.77      0.67      0.70    658136\n",
      "weighted avg       0.90      0.91      0.90    658136\n",
      "\n"
     ]
    }
   ],
   "source": [
    "import numpy as np\n",
    "import pandas as pd\n",
    "import pickle\n",
    "from pathlib import Path\n",
    "from concurrent.futures import ThreadPoolExecutor\n",
    "from imblearn.over_sampling import SMOTE\n",
    "from xgboost import DMatrix, train\n",
    "from sklearn.metrics import f1_score, classification_report, accuracy_score, roc_auc_score\n",
    "from sklearn.model_selection import train_test_split\n",
    "from sklearn.preprocessing import LabelEncoder, StandardScaler\n",
    "\n",
    "# Separate features (X) and target variable (y)\n",
    "X = data_ready.drop(drop_list, axis=1)\n",
    "y = data_ready['Disposition_recode_2']\n",
    "\n",
    "# Encode target variable if it's categorical\n",
    "le = LabelEncoder()\n",
    "y = le.fit_transform(y)\n",
    "\n",
    "# Split data into training and testing sets\n",
    "X_train, _, y_train, _ = train_test_split(X, y, test_size=0.2, random_state=42)\n",
    "\n",
    "X_test=data_ready_test.drop(drop_list_test, axis=1)\n",
    "y_test=data_ready_test['Disposition_recode_2']\n",
    "y_test = le.fit_transform(y_test)\n",
    "\n",
    "# Create a scaler for numerical features\n",
    "scaler = StandardScaler()\n",
    "X_train_scaled = scaler.fit_transform(X_train.select_dtypes(include=['number']))\n",
    "\n",
    "with open(f'X_scaler_{data_size}_{version}.pkl', 'wb') as file:\n",
    "    pickle.dump(scaler, file)\n",
    "\n",
    "X_test_scaled = scaler.transform(X_test.select_dtypes(include=['number']))\n",
    "\n",
    "# Convert scaled features back to DataFrame\n",
    "X_train_scaled_df = pd.DataFrame(X_train_scaled, columns=X_train.select_dtypes(include=['number']).columns)\n",
    "X_test_scaled_df = pd.DataFrame(X_test_scaled, columns=X_test.select_dtypes(include=['number']).columns)\n",
    "\n",
    "smote = SMOTE(random_state=42)\n",
    "X_resampled, y_resampled = smote.fit_resample(X_train_scaled_df, y_train)\n",
    "\n",
    "# Combine scaled numerical features with categorical features\n",
    "X_train_final = X_resampled.copy()\n",
    "X_test_final = X_test_scaled_df.copy()\n",
    "y_train_final=y_resampled.copy()\n",
    "\n",
    "\n",
    "# Load your dataset (ensure X and y are defined properly)\n",
    "# Assuming `X_train_final`, `X_test_final`, `y_train_final`, `y_test` are already defined\n",
    "\n",
    "# Convert datasets to DMatrix format (required for xgb.train)\n",
    "dtrain = DMatrix(data=X_train_final, label=y_train_final)\n",
    "dtest = DMatrix(data=X_test_final, label=y_test)\n",
    "\n",
    "params = {\n",
    "    'objective': 'binary:logistic',\n",
    "    'eval_metric': 'auc',\n",
    "    'learning_rate': 0.1,\n",
    "    'max_depth': 7,\n",
    "    'scale_pos_weight': 1,\n",
    "    'tree_method': 'hist',\n",
    "    'device': 'cuda',\n",
    "    'max_bin': 256,\n",
    "    'nthread': 16\n",
    "}\n",
    "\n",
    "model = train(params, dtrain, num_boost_round=5000, evals=[(dtest, 'eval')], verbose_eval=False)\n",
    "y_prob = model.predict(dtest)\n",
    "y_pred = (y_prob > 0.5).astype(int)\n",
    "auc = roc_auc_score(y_test, y_prob)\n",
    "accuracy = accuracy_score(y_test, y_pred)\n",
    "f1 = f1_score(y_test, y_pred)\n",
    "print(f\"Accuracy: {accuracy}\")\n",
    "print(f\"F1 Score: {f1}\")\n",
    "print(f\"AUC: {auc}\")\n",
    "print(classification_report(y_test, y_pred))\n",
    "\n",
    "with open(f'xgboost_embedding_Lower_{data_size}_{version}.pkl', 'wb') as file:\n",
    "    pickle.dump(model, file)"
   ]
  }
 ],
 "metadata": {
  "colab": {
   "provenance": []
  },
  "kernel_info": {
   "name": "python38-azureml"
  },
  "kernelspec": {
   "display_name": "neiss",
   "language": "python",
   "name": "python3"
  },
  "language_info": {
   "codemirror_mode": {
    "name": "ipython",
    "version": 3
   },
   "file_extension": ".py",
   "mimetype": "text/x-python",
   "name": "python",
   "nbconvert_exporter": "python",
   "pygments_lexer": "ipython3",
   "version": "3.12.7"
  },
  "microsoft": {
   "host": {
    "AzureML": {
     "notebookHasBeenCompleted": true
    }
   },
   "ms_spell_check": {
    "ms_spell_check_language": "en"
   }
  },
  "nteract": {
   "version": "nteract-front-end@1.0.0"
  }
 },
 "nbformat": 4,
 "nbformat_minor": 0
}
