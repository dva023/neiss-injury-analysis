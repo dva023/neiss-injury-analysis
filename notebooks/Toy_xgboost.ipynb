{
  "cells": [
    {
      "cell_type": "code",
      "source": [
        "import pandas as pd\n",
        "from sklearn.model_selection import train_test_split\n",
        "from sklearn.preprocessing import LabelEncoder\n",
        "from xgboost import XGBClassifier\n",
        "from sklearn.metrics import accuracy_score, classification_report\n",
        "import matplotlib.pyplot as plt\n",
        "from wordcloud import WordCloud\n",
        "import numpy as np\n",
        "import pickle\n",
        "# Load your data (replace with your actual data loading)\n",
        "# Assuming your data is in a CSV file named 'data.csv'"
      ],
      "outputs": [],
      "execution_count": null,
      "metadata": {
        "jupyter": {
          "source_hidden": false,
          "outputs_hidden": false
        },
        "nteract": {
          "transient": {
            "deleting": false
          }
        }
      }
    },
    {
      "cell_type": "code",
      "source": [
        "data = pd.read_csv('azureml://subscriptions/512a781e-d15a-4734-adca-96ec827531cb/resourcegroups/xwang3306-rg/workspaces/DVA_PROJECT/datastores/workspaceblobstore/paths/UI/2024-10-16_040004_UTC/consolidated_cleaned_neiss_2014_2023.csv')\n",
        "data['Body_Part_Group']=data['Body_Part'].copy()\n",
        "data.loc[((data['Body_Part']==84) | (data['Body_Part']==0)| (data['Body_Part']==85)), 'Body_Part_Group'] = 0 # \n",
        "data.loc[((data['Body_Part']==38) | (data['Body_Part']==79)), 'Body_Part_Group'] = 79 # \n",
        "data.loc[((data['Body_Part']==80) | (data['Body_Part']==30) | (data['Body_Part']==89)), 'Body_Part_Group'] = 30 # \n",
        "data.loc[((data['Body_Part']==32) | (data['Body_Part']==33)), 'Body_Part_Group'] = 33 # \n",
        "data.loc[((data['Body_Part']==88) | (data['Body_Part']==76) | (data['Body_Part']==77)), 'Body_Part_Group'] = 76 # \n",
        "data.loc[((data['Body_Part']==81) | (data['Body_Part']==35)), 'Body_Part_Group'] = 35 # \n",
        "data.loc[((data['Body_Part']==87)| (data['Body_Part']==94)), 'Body_Part_Group'] = np.nan # \n",
        "data.loc[((data['Body_Part']==93) | (data['Body_Part']==83)| (data['Body_Part']==37)), 'Body_Part_Group'] = 37 # \n",
        "data=data[data['Body_Part_Group'].notna()]"
      ],
      "outputs": [],
      "execution_count": null,
      "metadata": {
        "jupyter": {
          "source_hidden": false,
          "outputs_hidden": false
        },
        "nteract": {
          "transient": {
            "deleting": false
          }
        }
      }
    },
    {
      "cell_type": "code",
      "source": [
        "with open('xgb_toy.pkl', 'rb') as f:  # Replace 'your_model_file.pkl' with the actual file name\n",
        "    loaded_model = pickle.load(f)"
      ],
      "outputs": [],
      "execution_count": null,
      "metadata": {}
    },
    {
      "cell_type": "code",
      "source": [
        "def Predict_Body_parts_Prob(Age, Sex, Race,Location,Hispanic, Product_1 ,Alcohol, Drug):\n",
        "    X = np.column_stack([Age, Sex, Race,Location,Hispanic, Product_1 ,Alcohol, Drug])\n",
        "    \n",
        "    return loaded_model.predict_proba(X)"
      ],
      "outputs": [],
      "execution_count": null,
      "metadata": {
        "jupyter": {
          "source_hidden": false,
          "outputs_hidden": false
        },
        "nteract": {
          "transient": {
            "deleting": false
          }
        }
      }
    },
    {
      "cell_type": "markdown",
      "source": [
        "Class Labels: [ 0. 30. 31. 33. 34. 35. 36. 37. 75. 76. 79. 82. 92.]"
      ],
      "metadata": {
        "nteract": {
          "transient": {
            "deleting": false
          }
        }
      }
    },
    {
      "cell_type": "code",
      "source": [
        "Predict_Body_parts_Prob(20,1,0,1,0,1,0,0)"
      ],
      "outputs": [],
      "execution_count": null,
      "metadata": {
        "jupyter": {
          "source_hidden": false,
          "outputs_hidden": false
        },
        "nteract": {
          "transient": {
            "deleting": false
          }
        }
      }
    }
  ],
  "metadata": {
    "kernelspec": {
      "name": "python310-sdkv2",
      "language": "python",
      "display_name": "Python 3.10 - SDK v2"
    },
    "language_info": {
      "name": "python",
      "version": "3.10.14",
      "mimetype": "text/x-python",
      "codemirror_mode": {
        "name": "ipython",
        "version": 3
      },
      "pygments_lexer": "ipython3",
      "nbconvert_exporter": "python",
      "file_extension": ".py"
    },
    "microsoft": {
      "ms_spell_check": {
        "ms_spell_check_language": "en"
      }
    },
    "kernel_info": {
      "name": "python310-sdkv2"
    },
    "nteract": {
      "version": "nteract-front-end@1.0.0"
    }
  },
  "nbformat": 4,
  "nbformat_minor": 2
}