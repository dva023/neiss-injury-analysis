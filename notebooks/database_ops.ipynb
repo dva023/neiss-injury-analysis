{
 "cells": [
  {
   "cell_type": "code",
   "execution_count": null,
   "metadata": {},
   "outputs": [
    {
     "name": "stdout",
     "output_type": "stream",
     "text": [
      "{'x': ['x'], 'y': ['y'], 'body_part': ['1']}\n"
     ]
    }
   ],
   "source": [
    "import requests\n",
    "\n",
    "url = 'https://yycdsqhuunhjztzvzwfc.supabase.co/rest/v1/neiss'\n",
    "SUPABASE_CLIENT_ANON_KEY=\"\" # put the key here\n",
    "\n",
    "headers = {\n",
    "    'apikey': SUPABASE_CLIENT_ANON_KEY,\n",
    "    'Authorization': f'Bearer {SUPABASE_CLIENT_ANON_KEY}',\n",
    "    'Content-Type': 'application/json',\n",
    "    'Prefer': 'return=minimal'\n",
    "}\n",
    "\n",
    "# clean up the table\n",
    "response = requests.delete(f'{url}?identifier=eq.1', headers=headers)\n",
    "\n",
    "data = {\n",
    "    'x': ['x'],\n",
    "    'y': ['y'],\n",
    "    'body_part': ['1']\n",
    "}\n",
    "\n",
    "# insert the data\n",
    "response = requests.post(url, headers=headers, json=data)\n",
    "\n",
    "# get all of the data\n",
    "data = requests.get(f'{url}?select=x,y,body_part', headers=headers).json()\n",
    "print(data[0])"
   ]
  }
 ],
 "metadata": {
  "kernelspec": {
   "display_name": ".venv",
   "language": "python",
   "name": "python3"
  },
  "language_info": {
   "codemirror_mode": {
    "name": "ipython",
    "version": 3
   },
   "file_extension": ".py",
   "mimetype": "text/x-python",
   "name": "python",
   "nbconvert_exporter": "python",
   "pygments_lexer": "ipython3",
   "version": "3.10.10"
  }
 },
 "nbformat": 4,
 "nbformat_minor": 2
}
