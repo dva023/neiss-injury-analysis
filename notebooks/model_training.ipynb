{
 "cells": [
  {
   "cell_type": "code",
   "execution_count": 13,
   "metadata": {
    "gather": {
     "logged": 1731120966160
    }
   },
   "outputs": [
    {
     "name": "stdout",
     "output_type": "stream",
     "text": [
      "Requirement already satisfied: nltk in /home/eric/miniconda3/envs/neiss/lib/python3.12/site-packages (3.9.1)\n",
      "Requirement already satisfied: click in /home/eric/miniconda3/envs/neiss/lib/python3.12/site-packages (from nltk) (8.1.7)\n",
      "Requirement already satisfied: joblib in /home/eric/miniconda3/envs/neiss/lib/python3.12/site-packages (from nltk) (1.4.2)\n",
      "Requirement already satisfied: regex>=2021.8.3 in /home/eric/miniconda3/envs/neiss/lib/python3.12/site-packages (from nltk) (2024.11.6)\n",
      "Requirement already satisfied: tqdm in /home/eric/miniconda3/envs/neiss/lib/python3.12/site-packages (from nltk) (4.66.6)\n",
      "Requirement already satisfied: xgboost in /home/eric/miniconda3/envs/neiss/lib/python3.12/site-packages (2.1.1)\n",
      "Requirement already satisfied: numpy in /home/eric/miniconda3/envs/neiss/lib/python3.12/site-packages (from xgboost) (2.0.2)\n",
      "Requirement already satisfied: scipy in /home/eric/miniconda3/envs/neiss/lib/python3.12/site-packages (from xgboost) (1.14.1)\n",
      "Requirement already satisfied: imblearn in /home/eric/miniconda3/envs/neiss/lib/python3.12/site-packages (0.0)\n",
      "Requirement already satisfied: imbalanced-learn in /home/eric/miniconda3/envs/neiss/lib/python3.12/site-packages (from imblearn) (0.12.4)\n",
      "Requirement already satisfied: numpy>=1.17.3 in /home/eric/miniconda3/envs/neiss/lib/python3.12/site-packages (from imbalanced-learn->imblearn) (2.0.2)\n",
      "Requirement already satisfied: scipy>=1.5.0 in /home/eric/miniconda3/envs/neiss/lib/python3.12/site-packages (from imbalanced-learn->imblearn) (1.14.1)\n",
      "Requirement already satisfied: scikit-learn>=1.0.2 in /home/eric/miniconda3/envs/neiss/lib/python3.12/site-packages (from imbalanced-learn->imblearn) (1.5.2)\n",
      "Requirement already satisfied: joblib>=1.1.1 in /home/eric/miniconda3/envs/neiss/lib/python3.12/site-packages (from imbalanced-learn->imblearn) (1.4.2)\n",
      "Requirement already satisfied: threadpoolctl>=2.0.0 in /home/eric/miniconda3/envs/neiss/lib/python3.12/site-packages (from imbalanced-learn->imblearn) (3.5.0)\n"
     ]
    }
   ],
   "source": [
    "%reset -f\n",
    "!pip install nltk\n",
    "!pip install xgboost\n",
    "!pip install imblearn\n",
    "import pickle\n",
    "import pandas as pd\n",
    "from sklearn.model_selection import train_test_split\n",
    "from sklearn.preprocessing import LabelEncoder\n",
    "from xgboost import XGBClassifier\n",
    "from sklearn.metrics import accuracy_score, classification_report\n",
    "import matplotlib.pyplot as plt\n",
    "#from wordcloud import WordCloud\n",
    "import pandas as pd\n",
    "from sklearn.model_selection import train_test_split, GridSearchCV\n",
    "from sklearn.preprocessing import LabelEncoder, StandardScaler\n",
    "from sklearn.neighbors import KNeighborsClassifier\n",
    "from sklearn.ensemble import RandomForestClassifier\n",
    "from sklearn.linear_model import Lasso\n",
    "from sklearn.svm import SVC\n",
    "from xgboost import XGBClassifier\n",
    "from sklearn.metrics import accuracy_score, classification_report\n",
    "from sklearn.pipeline import Pipeline\n",
    "import nltk\n",
    "from nltk.corpus import stopwords\n",
    "from nltk.tokenize import word_tokenize\n",
    "from nltk.stem import WordNetLemmatizer\n",
    "from sklearn.feature_extraction.text import TfidfVectorizer\n",
    "\n",
    "\n",
    "\n",
    "#embedding_2=pd.read_csv('../xwang3306/aliba_embedding_10p.csv')"
   ]
  },
  {
   "cell_type": "code",
   "execution_count": null,
   "metadata": {},
   "outputs": [
    {
     "name": "stderr",
     "output_type": "stream",
     "text": [
      "[nltk_data] Downloading package punkt to /home/eric/nltk_data...\n",
      "[nltk_data]   Package punkt is already up-to-date!\n",
      "[nltk_data] Downloading package averaged_perceptron_tagger to\n",
      "[nltk_data]     /home/eric/nltk_data...\n",
      "[nltk_data]   Package averaged_perceptron_tagger is already up-to-\n",
      "[nltk_data]       date!\n",
      "[nltk_data] Downloading package wordnet to /home/eric/nltk_data...\n",
      "[nltk_data]   Package wordnet is already up-to-date!\n",
      "[nltk_data] Downloading package stopwords to /home/eric/nltk_data...\n",
      "[nltk_data]   Package stopwords is already up-to-date!\n"
     ]
    },
    {
     "name": "stdout",
     "output_type": "stream",
     "text": [
      "data_10p (352052, 28)\n",
      "embedding (352052, 385)\n",
      "   CPSC_Case_Number         0         1         2         3         4  \\\n",
      "0         221032332 -0.041426 -0.019759  0.047550 -0.016496 -0.010686   \n",
      "1         181109464 -0.017625 -0.034500  0.065491  0.020524  0.021781   \n",
      "2         210103105 -0.056190 -0.016024  0.018050  0.011191 -0.066218   \n",
      "3         161157997 -0.039718 -0.044306  0.027221  0.031631 -0.025631   \n",
      "4         181107411 -0.026992 -0.003040  0.037108 -0.065492 -0.010564   \n",
      "5         200134239  0.000362  0.013022  0.013661 -0.009646 -0.016427   \n",
      "6         140951498 -0.044273  0.000546  0.037143 -0.014956 -0.030164   \n",
      "7         221017396 -0.032237 -0.021063  0.026084 -0.042346 -0.011767   \n",
      "8         200645623 -0.011380 -0.037507  0.041981 -0.064022 -0.016811   \n",
      "9         141040420  0.019674 -0.015743  0.015878 -0.029989  0.005483   \n",
      "\n",
      "          5         6         7         8  ...       374       375       376  \\\n",
      "0  0.015076  0.113167  0.052858 -0.000614  ...  0.034040 -0.036666  0.008797   \n",
      "1  0.042113  0.060077  0.042478 -0.014973  ...  0.024239 -0.000142  0.007269   \n",
      "2  0.081201  0.032211  0.043978 -0.006360  ...  0.060739  0.014632  0.022998   \n",
      "3  0.041920  0.052326  0.061801  0.008804  ...  0.027231 -0.016303 -0.013848   \n",
      "4 -0.022115  0.078841  0.013069  0.005657  ...  0.019272 -0.061428  0.017961   \n",
      "5  0.048856  0.069432  0.033588 -0.016441  ...  0.015271 -0.032191 -0.001334   \n",
      "6  0.085621  0.046328  0.065593  0.033523  ...  0.073003 -0.003709  0.004067   \n",
      "7  0.047811  0.052396  0.093629 -0.003813  ...  0.016179 -0.031867 -0.007946   \n",
      "8  0.055067  0.034287  0.093689  0.012825  ...  0.068889 -0.028480 -0.011834   \n",
      "9  0.034219  0.048066  0.047623  0.004988  ...  0.000669  0.020707 -0.023070   \n",
      "\n",
      "        377       378       379       380       381       382       383  \n",
      "0  0.024984 -0.048995  0.002708 -0.020119 -0.058474 -0.022191  0.038710  \n",
      "1 -0.015545 -0.040856 -0.042023 -0.050380  0.008760 -0.002266  0.043031  \n",
      "2 -0.055498 -0.040177  0.024382 -0.086975 -0.045614 -0.022894 -0.013169  \n",
      "3 -0.046165 -0.034185  0.006101 -0.041465 -0.041030  0.040551  0.013185  \n",
      "4  0.035712  0.021475  0.038897 -0.028660  0.035182 -0.031062 -0.006973  \n",
      "5  0.017044 -0.005507 -0.011875 -0.101678  0.020554  0.008349  0.024304  \n",
      "6 -0.014014 -0.029929  0.032725 -0.047167 -0.049677 -0.029124  0.038116  \n",
      "7 -0.036613 -0.030827  0.035943 -0.010132 -0.029518 -0.000366  0.040291  \n",
      "8  0.026125 -0.003834  0.022431 -0.116032 -0.013971 -0.105048  0.038655  \n",
      "9  0.032140 -0.013655  0.035791 -0.008253 -0.096477  0.032906  0.039108  \n",
      "\n",
      "[10 rows x 385 columns]\n"
     ]
    }
   ],
   "source": [
    "\n",
    "nltk.download('punkt')\n",
    "nltk.download('averaged_perceptron_tagger')\n",
    "nltk.download('wordnet')\n",
    "nltk.download('stopwords')\n",
    "\n",
    "# Load your data (replace with your actual data loading)\n",
    "# Assuming your data is in a CSV file named 'data.csv'\n",
    "import pandas as pd\n",
    "\n",
    "\n",
    "data_size = '10p'\n",
    "# data_size = 'full'\n",
    "version = 'v1'\n",
    "\n",
    "data_10P = pd.read_csv('../data/neiss_10p_sample.csv') if data_size == '10p' else pd.read_csv('../data/consolidated_cleaned_neiss_2014_2023.csv')\n",
    "\n",
    "# data_10P = pd.read_csv('../data/neiss_10p_sample.csv')\n",
    "if data_size == '10p':\n",
    "    data_10P = data_10P.drop(columns=['Unnamed: 0'])\n",
    "\n",
    "print(\"data_10p\", data_10P.shape)\n",
    "\n",
    "embedding=pd.read_csv(f'../data/gist_embedding_{data_size}_{version}.csv')\n",
    "print(\"embedding\", embedding.shape)\n",
    "# print(\"new_columns\", new_columns.shape)\n",
    "print(embedding.head(10))"
   ]
  },
  {
   "cell_type": "code",
   "execution_count": 15,
   "metadata": {
    "collapsed": false,
    "gather": {
     "logged": 1731120993237
    },
    "jupyter": {
     "outputs_hidden": false,
     "source_hidden": false
    },
    "nteract": {
     "transient": {
      "deleting": false
     }
    }
   },
   "outputs": [
    {
     "name": "stdout",
     "output_type": "stream",
     "text": [
      "(352052, 391)\n"
     ]
    },
    {
     "data": {
      "text/html": [
       "<div>\n",
       "<style scoped>\n",
       "    .dataframe tbody tr th:only-of-type {\n",
       "        vertical-align: middle;\n",
       "    }\n",
       "\n",
       "    .dataframe tbody tr th {\n",
       "        vertical-align: top;\n",
       "    }\n",
       "\n",
       "    .dataframe thead th {\n",
       "        text-align: right;\n",
       "    }\n",
       "</style>\n",
       "<table border=\"1\" class=\"dataframe\">\n",
       "  <thead>\n",
       "    <tr style=\"text-align: right;\">\n",
       "      <th></th>\n",
       "      <th>CPSC_Case_Number</th>\n",
       "      <th>Age</th>\n",
       "      <th>Sex</th>\n",
       "      <th>Body_Part</th>\n",
       "      <th>Location</th>\n",
       "      <th>Product_1</th>\n",
       "      <th>Disposition</th>\n",
       "      <th>0</th>\n",
       "      <th>1</th>\n",
       "      <th>2</th>\n",
       "      <th>...</th>\n",
       "      <th>374</th>\n",
       "      <th>375</th>\n",
       "      <th>376</th>\n",
       "      <th>377</th>\n",
       "      <th>378</th>\n",
       "      <th>379</th>\n",
       "      <th>380</th>\n",
       "      <th>381</th>\n",
       "      <th>382</th>\n",
       "      <th>383</th>\n",
       "    </tr>\n",
       "  </thead>\n",
       "  <tbody>\n",
       "    <tr>\n",
       "      <th>0</th>\n",
       "      <td>221032332</td>\n",
       "      <td>14</td>\n",
       "      <td>1</td>\n",
       "      <td>34</td>\n",
       "      <td>0</td>\n",
       "      <td>1205</td>\n",
       "      <td>1</td>\n",
       "      <td>-0.041426</td>\n",
       "      <td>-0.019759</td>\n",
       "      <td>0.047550</td>\n",
       "      <td>...</td>\n",
       "      <td>0.034040</td>\n",
       "      <td>-0.036666</td>\n",
       "      <td>0.008797</td>\n",
       "      <td>0.024984</td>\n",
       "      <td>-0.048995</td>\n",
       "      <td>0.002708</td>\n",
       "      <td>-0.020119</td>\n",
       "      <td>-0.058474</td>\n",
       "      <td>-0.022191</td>\n",
       "      <td>0.038710</td>\n",
       "    </tr>\n",
       "    <tr>\n",
       "      <th>1</th>\n",
       "      <td>181109464</td>\n",
       "      <td>28</td>\n",
       "      <td>1</td>\n",
       "      <td>79</td>\n",
       "      <td>1</td>\n",
       "      <td>1141</td>\n",
       "      <td>1</td>\n",
       "      <td>-0.017625</td>\n",
       "      <td>-0.034500</td>\n",
       "      <td>0.065491</td>\n",
       "      <td>...</td>\n",
       "      <td>0.024239</td>\n",
       "      <td>-0.000142</td>\n",
       "      <td>0.007269</td>\n",
       "      <td>-0.015545</td>\n",
       "      <td>-0.040856</td>\n",
       "      <td>-0.042023</td>\n",
       "      <td>-0.050380</td>\n",
       "      <td>0.008760</td>\n",
       "      <td>-0.002266</td>\n",
       "      <td>0.043031</td>\n",
       "    </tr>\n",
       "    <tr>\n",
       "      <th>2</th>\n",
       "      <td>210103105</td>\n",
       "      <td>35</td>\n",
       "      <td>1</td>\n",
       "      <td>30</td>\n",
       "      <td>9</td>\n",
       "      <td>5033</td>\n",
       "      <td>1</td>\n",
       "      <td>-0.056190</td>\n",
       "      <td>-0.016024</td>\n",
       "      <td>0.018050</td>\n",
       "      <td>...</td>\n",
       "      <td>0.060739</td>\n",
       "      <td>0.014632</td>\n",
       "      <td>0.022998</td>\n",
       "      <td>-0.055498</td>\n",
       "      <td>-0.040177</td>\n",
       "      <td>0.024382</td>\n",
       "      <td>-0.086975</td>\n",
       "      <td>-0.045614</td>\n",
       "      <td>-0.022894</td>\n",
       "      <td>-0.013169</td>\n",
       "    </tr>\n",
       "    <tr>\n",
       "      <th>3</th>\n",
       "      <td>161157997</td>\n",
       "      <td>214</td>\n",
       "      <td>2</td>\n",
       "      <td>76</td>\n",
       "      <td>0</td>\n",
       "      <td>1842</td>\n",
       "      <td>1</td>\n",
       "      <td>-0.039718</td>\n",
       "      <td>-0.044306</td>\n",
       "      <td>0.027221</td>\n",
       "      <td>...</td>\n",
       "      <td>0.027231</td>\n",
       "      <td>-0.016303</td>\n",
       "      <td>-0.013848</td>\n",
       "      <td>-0.046165</td>\n",
       "      <td>-0.034185</td>\n",
       "      <td>0.006101</td>\n",
       "      <td>-0.041465</td>\n",
       "      <td>-0.041030</td>\n",
       "      <td>0.040551</td>\n",
       "      <td>0.013185</td>\n",
       "    </tr>\n",
       "    <tr>\n",
       "      <th>4</th>\n",
       "      <td>181107411</td>\n",
       "      <td>4</td>\n",
       "      <td>1</td>\n",
       "      <td>92</td>\n",
       "      <td>1</td>\n",
       "      <td>5020</td>\n",
       "      <td>1</td>\n",
       "      <td>-0.026992</td>\n",
       "      <td>-0.003040</td>\n",
       "      <td>0.037108</td>\n",
       "      <td>...</td>\n",
       "      <td>0.019272</td>\n",
       "      <td>-0.061428</td>\n",
       "      <td>0.017961</td>\n",
       "      <td>0.035712</td>\n",
       "      <td>0.021475</td>\n",
       "      <td>0.038897</td>\n",
       "      <td>-0.028660</td>\n",
       "      <td>0.035182</td>\n",
       "      <td>-0.031062</td>\n",
       "      <td>-0.006973</td>\n",
       "    </tr>\n",
       "    <tr>\n",
       "      <th>5</th>\n",
       "      <td>200134239</td>\n",
       "      <td>207</td>\n",
       "      <td>1</td>\n",
       "      <td>82</td>\n",
       "      <td>1</td>\n",
       "      <td>1682</td>\n",
       "      <td>1</td>\n",
       "      <td>0.000362</td>\n",
       "      <td>0.013022</td>\n",
       "      <td>0.013661</td>\n",
       "      <td>...</td>\n",
       "      <td>0.015271</td>\n",
       "      <td>-0.032191</td>\n",
       "      <td>-0.001334</td>\n",
       "      <td>0.017044</td>\n",
       "      <td>-0.005507</td>\n",
       "      <td>-0.011875</td>\n",
       "      <td>-0.101678</td>\n",
       "      <td>0.020554</td>\n",
       "      <td>0.008349</td>\n",
       "      <td>0.024304</td>\n",
       "    </tr>\n",
       "    <tr>\n",
       "      <th>6</th>\n",
       "      <td>140951498</td>\n",
       "      <td>12</td>\n",
       "      <td>1</td>\n",
       "      <td>82</td>\n",
       "      <td>8</td>\n",
       "      <td>1200</td>\n",
       "      <td>1</td>\n",
       "      <td>-0.044273</td>\n",
       "      <td>0.000546</td>\n",
       "      <td>0.037143</td>\n",
       "      <td>...</td>\n",
       "      <td>0.073003</td>\n",
       "      <td>-0.003709</td>\n",
       "      <td>0.004067</td>\n",
       "      <td>-0.014014</td>\n",
       "      <td>-0.029929</td>\n",
       "      <td>0.032725</td>\n",
       "      <td>-0.047167</td>\n",
       "      <td>-0.049677</td>\n",
       "      <td>-0.029124</td>\n",
       "      <td>0.038116</td>\n",
       "    </tr>\n",
       "    <tr>\n",
       "      <th>7</th>\n",
       "      <td>221017396</td>\n",
       "      <td>44</td>\n",
       "      <td>2</td>\n",
       "      <td>79</td>\n",
       "      <td>0</td>\n",
       "      <td>557</td>\n",
       "      <td>1</td>\n",
       "      <td>-0.032237</td>\n",
       "      <td>-0.021063</td>\n",
       "      <td>0.026084</td>\n",
       "      <td>...</td>\n",
       "      <td>0.016179</td>\n",
       "      <td>-0.031867</td>\n",
       "      <td>-0.007946</td>\n",
       "      <td>-0.036613</td>\n",
       "      <td>-0.030827</td>\n",
       "      <td>0.035943</td>\n",
       "      <td>-0.010132</td>\n",
       "      <td>-0.029518</td>\n",
       "      <td>-0.000366</td>\n",
       "      <td>0.040291</td>\n",
       "    </tr>\n",
       "    <tr>\n",
       "      <th>8</th>\n",
       "      <td>200645623</td>\n",
       "      <td>28</td>\n",
       "      <td>1</td>\n",
       "      <td>30</td>\n",
       "      <td>0</td>\n",
       "      <td>1333</td>\n",
       "      <td>1</td>\n",
       "      <td>-0.011380</td>\n",
       "      <td>-0.037507</td>\n",
       "      <td>0.041981</td>\n",
       "      <td>...</td>\n",
       "      <td>0.068889</td>\n",
       "      <td>-0.028480</td>\n",
       "      <td>-0.011834</td>\n",
       "      <td>0.026125</td>\n",
       "      <td>-0.003834</td>\n",
       "      <td>0.022431</td>\n",
       "      <td>-0.116032</td>\n",
       "      <td>-0.013971</td>\n",
       "      <td>-0.105048</td>\n",
       "      <td>0.038655</td>\n",
       "    </tr>\n",
       "    <tr>\n",
       "      <th>9</th>\n",
       "      <td>141040420</td>\n",
       "      <td>16</td>\n",
       "      <td>2</td>\n",
       "      <td>79</td>\n",
       "      <td>9</td>\n",
       "      <td>1266</td>\n",
       "      <td>1</td>\n",
       "      <td>0.019674</td>\n",
       "      <td>-0.015743</td>\n",
       "      <td>0.015878</td>\n",
       "      <td>...</td>\n",
       "      <td>0.000669</td>\n",
       "      <td>0.020707</td>\n",
       "      <td>-0.023070</td>\n",
       "      <td>0.032140</td>\n",
       "      <td>-0.013655</td>\n",
       "      <td>0.035791</td>\n",
       "      <td>-0.008253</td>\n",
       "      <td>-0.096477</td>\n",
       "      <td>0.032906</td>\n",
       "      <td>0.039108</td>\n",
       "    </tr>\n",
       "  </tbody>\n",
       "</table>\n",
       "<p>10 rows × 391 columns</p>\n",
       "</div>"
      ],
      "text/plain": [
       "   CPSC_Case_Number  Age  Sex  Body_Part  Location  Product_1  Disposition  \\\n",
       "0         221032332   14    1         34         0       1205            1   \n",
       "1         181109464   28    1         79         1       1141            1   \n",
       "2         210103105   35    1         30         9       5033            1   \n",
       "3         161157997  214    2         76         0       1842            1   \n",
       "4         181107411    4    1         92         1       5020            1   \n",
       "5         200134239  207    1         82         1       1682            1   \n",
       "6         140951498   12    1         82         8       1200            1   \n",
       "7         221017396   44    2         79         0        557            1   \n",
       "8         200645623   28    1         30         0       1333            1   \n",
       "9         141040420   16    2         79         9       1266            1   \n",
       "\n",
       "          0         1         2  ...       374       375       376       377  \\\n",
       "0 -0.041426 -0.019759  0.047550  ...  0.034040 -0.036666  0.008797  0.024984   \n",
       "1 -0.017625 -0.034500  0.065491  ...  0.024239 -0.000142  0.007269 -0.015545   \n",
       "2 -0.056190 -0.016024  0.018050  ...  0.060739  0.014632  0.022998 -0.055498   \n",
       "3 -0.039718 -0.044306  0.027221  ...  0.027231 -0.016303 -0.013848 -0.046165   \n",
       "4 -0.026992 -0.003040  0.037108  ...  0.019272 -0.061428  0.017961  0.035712   \n",
       "5  0.000362  0.013022  0.013661  ...  0.015271 -0.032191 -0.001334  0.017044   \n",
       "6 -0.044273  0.000546  0.037143  ...  0.073003 -0.003709  0.004067 -0.014014   \n",
       "7 -0.032237 -0.021063  0.026084  ...  0.016179 -0.031867 -0.007946 -0.036613   \n",
       "8 -0.011380 -0.037507  0.041981  ...  0.068889 -0.028480 -0.011834  0.026125   \n",
       "9  0.019674 -0.015743  0.015878  ...  0.000669  0.020707 -0.023070  0.032140   \n",
       "\n",
       "        378       379       380       381       382       383  \n",
       "0 -0.048995  0.002708 -0.020119 -0.058474 -0.022191  0.038710  \n",
       "1 -0.040856 -0.042023 -0.050380  0.008760 -0.002266  0.043031  \n",
       "2 -0.040177  0.024382 -0.086975 -0.045614 -0.022894 -0.013169  \n",
       "3 -0.034185  0.006101 -0.041465 -0.041030  0.040551  0.013185  \n",
       "4  0.021475  0.038897 -0.028660  0.035182 -0.031062 -0.006973  \n",
       "5 -0.005507 -0.011875 -0.101678  0.020554  0.008349  0.024304  \n",
       "6 -0.029929  0.032725 -0.047167 -0.049677 -0.029124  0.038116  \n",
       "7 -0.030827  0.035943 -0.010132 -0.029518 -0.000366  0.040291  \n",
       "8 -0.003834  0.022431 -0.116032 -0.013971 -0.105048  0.038655  \n",
       "9 -0.013655  0.035791 -0.008253 -0.096477  0.032906  0.039108  \n",
       "\n",
       "[10 rows x 391 columns]"
      ]
     },
     "execution_count": 15,
     "metadata": {},
     "output_type": "execute_result"
    }
   ],
   "source": [
    "# data=data_10P.merge(new_columns,how='inner',on='CPSC_Case_Number').merge(embedding,how='inner',on='CPSC_Case_Number').reset_index(drop=True)\n",
    "data_10P = data_10P[['CPSC_Case_Number', 'Age', 'Sex', 'Body_Part', 'Location', 'Product_1', 'Disposition']]\n",
    "data=data_10P.merge(embedding,how='inner',on='CPSC_Case_Number').reset_index(drop=True)\n",
    "del data_10P\n",
    "del embedding\n",
    "# data_10P.head(10)\n",
    "# embedding.head(10)\n",
    "print(data.shape)\n",
    "data.head(10)"
   ]
  },
  {
   "cell_type": "code",
   "execution_count": 16,
   "metadata": {},
   "outputs": [
    {
     "name": "stdout",
     "output_type": "stream",
     "text": [
      "['CPSC_Case_Number', 'Age', 'Sex', 'Body_Part', 'Location', 'Product_1', 'Disposition', '0', '1', '2', '3', '4', '5', '6', '7', '8', '9', '10', '11', '12', '13', '14', '15', '16', '17', '18', '19', '20', '21', '22', '23', '24', '25', '26', '27', '28', '29', '30', '31', '32', '33', '34', '35', '36', '37', '38', '39', '40', '41', '42', '43', '44', '45', '46', '47', '48', '49', '50', '51', '52', '53', '54', '55', '56', '57', '58', '59', '60', '61', '62', '63', '64', '65', '66', '67', '68', '69', '70', '71', '72', '73', '74', '75', '76', '77', '78', '79', '80', '81', '82', '83', '84', '85', '86', '87', '88', '89', '90', '91', '92', '93', '94', '95', '96', '97', '98', '99', '100', '101', '102', '103', '104', '105', '106', '107', '108', '109', '110', '111', '112', '113', '114', '115', '116', '117', '118', '119', '120', '121', '122', '123', '124', '125', '126', '127', '128', '129', '130', '131', '132', '133', '134', '135', '136', '137', '138', '139', '140', '141', '142', '143', '144', '145', '146', '147', '148', '149', '150', '151', '152', '153', '154', '155', '156', '157', '158', '159', '160', '161', '162', '163', '164', '165', '166', '167', '168', '169', '170', '171', '172', '173', '174', '175', '176', '177', '178', '179', '180', '181', '182', '183', '184', '185', '186', '187', '188', '189', '190', '191', '192', '193', '194', '195', '196', '197', '198', '199', '200', '201', '202', '203', '204', '205', '206', '207', '208', '209', '210', '211', '212', '213', '214', '215', '216', '217', '218', '219', '220', '221', '222', '223', '224', '225', '226', '227', '228', '229', '230', '231', '232', '233', '234', '235', '236', '237', '238', '239', '240', '241', '242', '243', '244', '245', '246', '247', '248', '249', '250', '251', '252', '253', '254', '255', '256', '257', '258', '259', '260', '261', '262', '263', '264', '265', '266', '267', '268', '269', '270', '271', '272', '273', '274', '275', '276', '277', '278', '279', '280', '281', '282', '283', '284', '285', '286', '287', '288', '289', '290', '291', '292', '293', '294', '295', '296', '297', '298', '299', '300', '301', '302', '303', '304', '305', '306', '307', '308', '309', '310', '311', '312', '313', '314', '315', '316', '317', '318', '319', '320', '321', '322', '323', '324', '325', '326', '327', '328', '329', '330', '331', '332', '333', '334', '335', '336', '337', '338', '339', '340', '341', '342', '343', '344', '345', '346', '347', '348', '349', '350', '351', '352', '353', '354', '355', '356', '357', '358', '359', '360', '361', '362', '363', '364', '365', '366', '367', '368', '369', '370', '371', '372', '373', '374', '375', '376', '377', '378', '379', '380', '381', '382', '383']\n"
     ]
    }
   ],
   "source": [
    "print(list(data.columns))"
   ]
  },
  {
   "cell_type": "code",
   "execution_count": 17,
   "metadata": {
    "collapsed": false,
    "gather": {
     "logged": 1731121003728
    },
    "jupyter": {
     "outputs_hidden": false,
     "source_hidden": false
    },
    "nteract": {
     "transient": {
      "deleting": false
     }
    }
   },
   "outputs": [],
   "source": [
    "import numpy as np\n",
    "data['Disposition_recode']=np.nan\n",
    "data.loc[((data['Disposition']==1)), 'Disposition_recode'] = 0\n",
    "data.loc[((data['Disposition']==2)), 'Disposition_recode'] = 1\n",
    "data.loc[((data['Disposition']==4)), 'Disposition_recode'] = 2\n",
    "data.loc[((data['Disposition']==5)), 'Disposition_recode'] = 3\n",
    "data.loc[((data['Disposition']==8)), 'Disposition_recode'] = 4\n",
    "data=data[data['Disposition_recode'].notna()]\n",
    "\n",
    "data['Disposition_recode_2']=0\n",
    "data.loc[((data['Disposition_recode']>0)), 'Disposition_recode_2'] = 1"
   ]
  },
  {
   "cell_type": "code",
   "execution_count": 18,
   "metadata": {
    "collapsed": false,
    "jupyter": {
     "outputs_hidden": false,
     "source_hidden": false
    },
    "nteract": {
     "transient": {
      "deleting": false
     }
    }
   },
   "outputs": [
    {
     "data": {
      "text/plain": [
       "Disposition_recode_2\n",
       "0    296228\n",
       "1     32874\n",
       "Name: count, dtype: int64"
      ]
     },
     "execution_count": 18,
     "metadata": {},
     "output_type": "execute_result"
    }
   ],
   "source": [
    "data=data[(data['Body_Part']!=0) & (data['Body_Part']!=84) & (data['Body_Part']!=85) & (data['Body_Part']!=86) & (data['Body_Part']!=87)]\n",
    "data['Disposition_recode'].value_counts()\n",
    "data['Disposition_recode_2'].value_counts() "
   ]
  },
  {
   "cell_type": "code",
   "execution_count": 19,
   "metadata": {
    "collapsed": false,
    "gather": {
     "logged": 1731121014315
    },
    "jupyter": {
     "outputs_hidden": false,
     "source_hidden": false
    },
    "nteract": {
     "transient": {
      "deleting": false
     }
    }
   },
   "outputs": [],
   "source": [
    "bdpt_dict={}\n",
    "bdpt_dict[0]='INTERNAL'\n",
    "bdpt_dict[30]='SHOULDER'\n",
    "bdpt_dict[31]='UPPERTRUNK'\n",
    "bdpt_dict[32]='ELBOW'\n",
    "bdpt_dict[33]='LOWERARM'\n",
    "bdpt_dict[34]='WRIST'\n",
    "bdpt_dict[35]='KNEE'\n",
    "bdpt_dict[36]='LOWERLEG'\n",
    "bdpt_dict[37]='ANKLE'\n",
    "bdpt_dict[38]='PUBICREGION'\n",
    "bdpt_dict[75]='HEAD'\n",
    "bdpt_dict[76]='FACE'\n",
    "bdpt_dict[77]='EYEBALL'\n",
    "bdpt_dict[78]='UPPERTRUNK(OLD)'\n",
    "bdpt_dict[79]='LOWERTRUNK'\n",
    "bdpt_dict[80]='UPPERARM'\n",
    "bdpt_dict[81]='UPPERLEG'\n",
    "bdpt_dict[82]='HAND'\n",
    "bdpt_dict[83]='FOOT'\n",
    "bdpt_dict[84]='25-50% OF BODY'\n",
    "bdpt_dict[85]='ALLPARTSBODY'\n",
    "bdpt_dict[86]='OTHER(OLD)'\n",
    "bdpt_dict[87]='NOTSTATED/UNK'\n",
    "bdpt_dict[88]='MOUTH'\n",
    "bdpt_dict[89]='NECK'\n",
    "bdpt_dict[90]='LOWERARM(OLD)'\n",
    "bdpt_dict[91]='LOWERLEG(OLD)'\n",
    "bdpt_dict[92]='FINGER'\n",
    "bdpt_dict[93]='TOE'\n",
    "bdpt_dict[94]='EAR'\n"
   ]
  },
  {
   "cell_type": "code",
   "execution_count": 20,
   "metadata": {
    "collapsed": false,
    "gather": {
     "logged": 1731121020538
    },
    "jupyter": {
     "outputs_hidden": false,
     "source_hidden": false
    },
    "nteract": {
     "transient": {
      "deleting": false
     }
    }
   },
   "outputs": [],
   "source": [
    "data['body_string']=data['Body_Part'].map(bdpt_dict)\n",
    "# data['Narrative_LLM']=data[\"activity_at_injury\"].astype(str) + ' '+data[\"injury_mechanism\"].astype(str)+ ' ' + data[\"object_involved\"].astype(str)"
   ]
  },
  {
   "cell_type": "code",
   "execution_count": 21,
   "metadata": {
    "collapsed": false,
    "gather": {
     "logged": 1731114277211
    },
    "jupyter": {
     "outputs_hidden": false,
     "source_hidden": false
    },
    "nteract": {
     "transient": {
      "deleting": false
     }
    }
   },
   "outputs": [
    {
     "name": "stdout",
     "output_type": "stream",
     "text": [
      "Original dataset shape: (329102, 394)\n",
      "Train set size: 263282 rows\n",
      "Test set size: 65820 rows\n"
     ]
    },
    {
     "data": {
      "text/plain": [
       "Index(['CPSC_Case_Number', 'Age', 'Sex', 'Body_Part', 'Location', 'Product_1',\n",
       "       'Disposition', '0', '1', '2',\n",
       "       ...\n",
       "       '377', '378', '379', '380', '381', '382', '383', 'Disposition_recode',\n",
       "       'Disposition_recode_2', 'body_string'],\n",
       "      dtype='object', length=394)"
      ]
     },
     "execution_count": 21,
     "metadata": {},
     "output_type": "execute_result"
    }
   ],
   "source": [
    "\n",
    "total_rows, n_columns = data.shape\n",
    "\n",
    "test_size = int(total_rows * 0.2)\n",
    "train_size = total_rows - test_size\n",
    "\n",
    "print(f\"Original dataset shape: ({total_rows}, {n_columns})\")\n",
    "print(f\"Train set size: {train_size} rows\")\n",
    "print(f\"Test set size: {test_size} rows\")\n",
    "data_sample = data.sample(frac=1,random_state=42).reset_index(drop=True)\n",
    "\n",
    "data_ready = data_sample.tail(train_size).reset_index(drop=True)\n",
    "data_ready_test = data_sample.head(test_size).reset_index(drop=True)\n",
    "del data\n",
    "\n",
    "# data_test=data_core.head(21000).reset_index(drop=True)\n",
    "# data_fit=data_core.tail(191347).reset_index(drop=True)\n",
    "# df_bad=data_fit[data_fit['Disposition_recode_2']==1]\n",
    "# df_good=data_fit[data_fit['Disposition_recode_2']==0]\n",
    "# data_good_sample=df_good.sample(frac=0.2,random_state=42).reset_index(drop=True)\n",
    "# data_bad_sample=df_bad.sample(frac=0.8,random_state=42).reset_index(drop=True)\n",
    "# data_core_sample=pd.concat([data_good_sample,data_bad_sample]).reset_index(drop=True)\n",
    "# data_core_sample=data_core_sample.sample(frac=1,random_state=42).reset_index(drop=True)\n",
    "# data_core_sample.head()\n",
    "\n",
    "# data_ready = data_core_sample\n",
    "# data_ready_test = data_test\n",
    "data_ready.columns"
   ]
  },
  {
   "cell_type": "code",
   "execution_count": 22,
   "metadata": {
    "collapsed": false,
    "gather": {
     "logged": 1731114704628
    },
    "jupyter": {
     "outputs_hidden": false,
     "source_hidden": false
    },
    "nteract": {
     "transient": {
      "deleting": false
     }
    }
   },
   "outputs": [],
   "source": [
    "drop_list=[\n",
    " 'CPSC_Case_Number',\n",
    " 'Disposition',\n",
    " 'Disposition_recode',\n",
    " 'Disposition_recode_2',\n",
    " 'body_string',\n",
    "]\n",
    "\n",
    "drop_list_test = drop_list"
   ]
  },
  {
   "cell_type": "code",
   "execution_count": 23,
   "metadata": {},
   "outputs": [
    {
     "name": "stdout",
     "output_type": "stream",
     "text": [
      "['Age', 'Sex', 'Body_Part', 'Location', 'Product_1', '0', '1', '2', '3', '4', '5', '6', '7', '8', '9', '10', '11', '12', '13', '14', '15', '16', '17', '18', '19', '20', '21', '22', '23', '24', '25', '26', '27', '28', '29', '30', '31', '32', '33', '34', '35', '36', '37', '38', '39', '40', '41', '42', '43', '44', '45', '46', '47', '48', '49', '50', '51', '52', '53', '54', '55', '56', '57', '58', '59', '60', '61', '62', '63', '64', '65', '66', '67', '68', '69', '70', '71', '72', '73', '74', '75', '76', '77', '78', '79', '80', '81', '82', '83', '84', '85', '86', '87', '88', '89', '90', '91', '92', '93', '94', '95', '96', '97', '98', '99', '100', '101', '102', '103', '104', '105', '106', '107', '108', '109', '110', '111', '112', '113', '114', '115', '116', '117', '118', '119', '120', '121', '122', '123', '124', '125', '126', '127', '128', '129', '130', '131', '132', '133', '134', '135', '136', '137', '138', '139', '140', '141', '142', '143', '144', '145', '146', '147', '148', '149', '150', '151', '152', '153', '154', '155', '156', '157', '158', '159', '160', '161', '162', '163', '164', '165', '166', '167', '168', '169', '170', '171', '172', '173', '174', '175', '176', '177', '178', '179', '180', '181', '182', '183', '184', '185', '186', '187', '188', '189', '190', '191', '192', '193', '194', '195', '196', '197', '198', '199', '200', '201', '202', '203', '204', '205', '206', '207', '208', '209', '210', '211', '212', '213', '214', '215', '216', '217', '218', '219', '220', '221', '222', '223', '224', '225', '226', '227', '228', '229', '230', '231', '232', '233', '234', '235', '236', '237', '238', '239', '240', '241', '242', '243', '244', '245', '246', '247', '248', '249', '250', '251', '252', '253', '254', '255', '256', '257', '258', '259', '260', '261', '262', '263', '264', '265', '266', '267', '268', '269', '270', '271', '272', '273', '274', '275', '276', '277', '278', '279', '280', '281', '282', '283', '284', '285', '286', '287', '288', '289', '290', '291', '292', '293', '294', '295', '296', '297', '298', '299', '300', '301', '302', '303', '304', '305', '306', '307', '308', '309', '310', '311', '312', '313', '314', '315', '316', '317', '318', '319', '320', '321', '322', '323', '324', '325', '326', '327', '328', '329', '330', '331', '332', '333', '334', '335', '336', '337', '338', '339', '340', '341', '342', '343', '344', '345', '346', '347', '348', '349', '350', '351', '352', '353', '354', '355', '356', '357', '358', '359', '360', '361', '362', '363', '364', '365', '366', '367', '368', '369', '370', '371', '372', '373', '374', '375', '376', '377', '378', '379', '380', '381', '382', '383']\n"
     ]
    }
   ],
   "source": [
    "X = data_ready.drop(drop_list, axis=1) \n",
    "y = data_ready['Disposition_recode_2']\n",
    "\n",
    "print(list(X.columns))"
   ]
  },
  {
   "cell_type": "code",
   "execution_count": null,
   "metadata": {
    "collapsed": false,
    "gather": {
     "logged": 1731115388172
    },
    "jupyter": {
     "outputs_hidden": false,
     "source_hidden": false
    },
    "nteract": {
     "transient": {
      "deleting": false
     }
    }
   },
   "outputs": [
    {
     "name": "stdout",
     "output_type": "stream",
     "text": [
      "Training XGBoost...\n"
     ]
    },
    {
     "name": "stderr",
     "output_type": "stream",
     "text": [
      "Exception ignored in: <function _releaseLock at 0x7a47685f5940>\n",
      "Traceback (most recent call last):\n",
      "  File \"/home/eric/miniconda3/envs/neiss/lib/python3.12/logging/__init__.py\", line 243, in _releaseLock\n",
      "    def _releaseLock():\n",
      "    \n",
      "KeyboardInterrupt: \n"
     ]
    }
   ],
   "source": [
    "from sklearn.metrics import f1_score, classification_report, accuracy_score, roc_auc_score\n",
    "from scipy.stats import mode\n",
    "from imblearn.over_sampling import SMOTE\n",
    "from sklearn.linear_model import LogisticRegression\n",
    "from sklearn.svm import SVC\n",
    "import numpy as np\n",
    "from sklearn.neural_network import MLPClassifier\n",
    "\n",
    "# Separate features (X) and target variable (y)\n",
    "X = data_ready.drop(drop_list, axis=1) \n",
    "y = data_ready['Disposition_recode_2']\n",
    "\n",
    "# Encode target variable if it's categorical\n",
    "le = LabelEncoder()\n",
    "y = le.fit_transform(y)\n",
    "\n",
    "# Split data into training and testing sets\n",
    "X_train, _, y_train, _ = train_test_split(X, y, test_size=0.2, random_state=42)\n",
    "\n",
    "X_test=data_ready_test.drop(drop_list_test, axis=1)\n",
    "y_test=data_ready_test['Disposition_recode_2']\n",
    "y_test = le.fit_transform(y_test)\n",
    "\n",
    "# Create a scaler for numerical features\n",
    "scaler = StandardScaler()\n",
    "X_train_scaled = scaler.fit_transform(X_train.select_dtypes(include=['number']))\n",
    "\n",
    "with open(f'X_scaler_{data_size}_{version}.pkl', 'wb') as file:\n",
    "    pickle.dump(scaler, file)\n",
    "\n",
    "X_test_scaled = scaler.transform(X_test.select_dtypes(include=['number']))\n",
    "\n",
    "# Convert scaled features back to DataFrame\n",
    "X_train_scaled_df = pd.DataFrame(X_train_scaled, columns=X_train.select_dtypes(include=['number']).columns)\n",
    "X_test_scaled_df = pd.DataFrame(X_test_scaled, columns=X_test.select_dtypes(include=['number']).columns)\n",
    "\n",
    "smote = SMOTE(random_state=42)\n",
    "X_resampled, y_resampled = smote.fit_resample(X_train_scaled_df, y_train)\n",
    "\n",
    "# Combine scaled numerical features with categorical features\n",
    "X_train_final = X_resampled.copy()\n",
    "X_test_final = X_test_scaled_df.copy()\n",
    "y_train_final=y_resampled.copy()\n",
    "\n",
    "\n",
    "# Define models and their parameter grids for hyperparameter tuning\n",
    "models = {\n",
    "    #'KNN': (KNeighborsClassifier(), {'knn__n_neighbors': [3, 5, 7]}),\n",
    "    #'Random_Forest': (RandomForestClassifier(), {'random_forest__n_estimators': [100, 200], 'random_forest__max_depth': [4, 8]}),\n",
    "    'XGBoost': (XGBClassifier(objective='binary:logistic'), \n",
    "           {'xgboost__learning_rate': [0.1, 0.01, 0.001],            # Step size shrinkage to prevent overfitting\n",
    "            'xgboost__max_depth': [3, 5, 7],                         # Maximum depth of each tree\n",
    "            #'xgboost__n_estimators': [100, 200, 300],                # Number of boosting rounds\n",
    "            #'xgboost__min_child_weight': [1, 3, 5],                  # Minimum sum of instance weight needed in a child\n",
    "            #'xgboost__subsample': [0.6, 0.8,0.9],                   # Subsample ratio of the training instances\n",
    "            #'xgboost__colsample_bytree': [0.6, 0.8, 0.9],            # Subsample ratio of columns when constructing each tree\n",
    "            #'xgboost__gamma': [0.1, 0.5, 1,3],                     # Minimum loss reduction required for a split\n",
    "            #'xgboost__reg_alpha': [0.01, 0.1,0.5,1],                    # L1 regularization term on weights\n",
    "            #'xgboost__reg_lambda': [1, 1.5, 2],                      # L2 regularization term on weights\n",
    "            'xgboost__scale_pos_weight': [1, 5, 10]\n",
    "            }),\n",
    "    #'Logistic_Regression': (LogisticRegression(solver='liblinear'), {'logistic_regression__C': [0.1, 1, 10]}),\n",
    "    #'SVM': (SVC(probability=True), {'svm__C': [0.1, 1, 10], 'svm__kernel': ['linear', 'rbf']}),\n",
    "    #'NN': (MLPClassifier(max_iter=1000), {'nn__hidden_layer_sizes': [(10,), (50,), (100,)], 'nn__activation': ['relu', 'tanh']}),\n",
    "}\n",
    "\n",
    "# Initialize list to store predictions from each model\n",
    "\n",
    "ensemble_predictions = []\n",
    "ensemble_probabilities = []\n",
    "\n",
    "for model_name, (model, param_grid) in models.items():\n",
    "    print(f\"Training {model_name}...\")\n",
    "\n",
    "    # Create a pipeline for preprocessing and model training\n",
    "    pipeline = Pipeline([\n",
    "        (model_name.lower(), model)\n",
    "    ])\n",
    "\n",
    "    # Perform hyperparameter tuning using GridSearchCV with AUC score\n",
    "    grid_search = GridSearchCV(pipeline, param_grid, cv=3, scoring='precision',n_jobs=8)\n",
    "    grid_search.fit(X_train_final, y_train_final)\n",
    "\n",
    "    # Get the best model from the grid search\n",
    "    best_model = grid_search.best_estimator_\n",
    "\n",
    "    # Make predictions and predict probabilities on the test set\n",
    "    y_pred = best_model.predict(X_test_final)\n",
    "    y_prob = best_model.predict_proba(X_test_final)[:, 1]  # Probability for the positive class\n",
    "    ensemble_predictions.append(y_pred)\n",
    "    ensemble_probabilities.append(y_prob)\n",
    "\n",
    "    # Evaluate the model using accuracy, F1-score, and AUC\n",
    "    accuracy = accuracy_score(y_test, y_pred)\n",
    "    f1 = f1_score(y_test, y_pred)\n",
    "    auc = roc_auc_score(y_test, y_prob)\n",
    "    print(f\"{model_name} Accuracy: {accuracy}\")\n",
    "    print(f\"{model_name} F1 Score: {f1}\")\n",
    "    print(f\"{model_name} AUC: {auc}\")\n",
    "    print(classification_report(y_test, y_pred))\n",
    "\n",
    "# # Implement ensemble method (majority voting for predictions, average for probabilities)\n",
    "# ensemble_predictions = np.array(ensemble_predictions)\n",
    "# ensemble_pred_final = mode(ensemble_predictions, axis=0)[0].flatten()\n",
    "\n",
    "# # Average the probabilities for the ensemble AUC\n",
    "# ensemble_probabilities = np.mean(ensemble_probabilities, axis=0)\n",
    "\n",
    "# # Evaluate the ensemble model using accuracy, F1-score, and AUC\n",
    "# ensemble_accuracy = accuracy_score(y_test, ensemble_pred_final)\n",
    "# ensemble_f1 = f1_score(y_test, ensemble_pred_final)\n",
    "# ensemble_auc = roc_auc_score(y_test, ensemble_probabilities)\n",
    "# print(\"Ensemble Accuracy:\", ensemble_accuracy)\n",
    "# print(\"Ensemble F1 Score:\", ensemble_f1)\n",
    "# print(\"Ensemble AUC:\", ensemble_auc)\n",
    "# print(classification_report(y_test, ensemble_pred_final))\n",
    "\n",
    "with open(f'xgboost_embedding_{data_size}_{version}.pkl', 'wb') as file:\n",
    "    pickle.dump(best_model, file)"
   ]
  },
  {
   "cell_type": "code",
   "execution_count": null,
   "metadata": {},
   "outputs": [
    {
     "data": {
      "text/html": [
       "<div>\n",
       "<style scoped>\n",
       "    .dataframe tbody tr th:only-of-type {\n",
       "        vertical-align: middle;\n",
       "    }\n",
       "\n",
       "    .dataframe tbody tr th {\n",
       "        vertical-align: top;\n",
       "    }\n",
       "\n",
       "    .dataframe thead th {\n",
       "        text-align: right;\n",
       "    }\n",
       "</style>\n",
       "<table border=\"1\" class=\"dataframe\">\n",
       "  <thead>\n",
       "    <tr style=\"text-align: right;\">\n",
       "      <th></th>\n",
       "      <th>Age</th>\n",
       "      <th>Sex</th>\n",
       "      <th>Body_Part</th>\n",
       "      <th>Location</th>\n",
       "      <th>Product_1</th>\n",
       "      <th>0</th>\n",
       "      <th>1</th>\n",
       "      <th>2</th>\n",
       "      <th>3</th>\n",
       "      <th>4</th>\n",
       "      <th>...</th>\n",
       "      <th>374</th>\n",
       "      <th>375</th>\n",
       "      <th>376</th>\n",
       "      <th>377</th>\n",
       "      <th>378</th>\n",
       "      <th>379</th>\n",
       "      <th>380</th>\n",
       "      <th>381</th>\n",
       "      <th>382</th>\n",
       "      <th>383</th>\n",
       "    </tr>\n",
       "  </thead>\n",
       "  <tbody>\n",
       "    <tr>\n",
       "      <th>0</th>\n",
       "      <td>-0.380845</td>\n",
       "      <td>-0.919097</td>\n",
       "      <td>0.797135</td>\n",
       "      <td>2.028643</td>\n",
       "      <td>0.830206</td>\n",
       "      <td>-0.587897</td>\n",
       "      <td>-0.809677</td>\n",
       "      <td>-0.002741</td>\n",
       "      <td>0.429119</td>\n",
       "      <td>-0.628006</td>\n",
       "      <td>...</td>\n",
       "      <td>-0.186046</td>\n",
       "      <td>-0.222702</td>\n",
       "      <td>0.905786</td>\n",
       "      <td>-0.695474</td>\n",
       "      <td>0.674217</td>\n",
       "      <td>-0.574596</td>\n",
       "      <td>0.007002</td>\n",
       "      <td>-1.302847</td>\n",
       "      <td>-0.978701</td>\n",
       "      <td>-1.300178</td>\n",
       "    </tr>\n",
       "    <tr>\n",
       "      <th>1</th>\n",
       "      <td>-0.255708</td>\n",
       "      <td>-0.919097</td>\n",
       "      <td>0.624982</td>\n",
       "      <td>0.479407</td>\n",
       "      <td>2.139031</td>\n",
       "      <td>-1.090120</td>\n",
       "      <td>-0.228398</td>\n",
       "      <td>-0.269642</td>\n",
       "      <td>-0.213726</td>\n",
       "      <td>-0.653717</td>\n",
       "      <td>...</td>\n",
       "      <td>-1.247641</td>\n",
       "      <td>0.831428</td>\n",
       "      <td>-0.210775</td>\n",
       "      <td>0.417983</td>\n",
       "      <td>-1.319875</td>\n",
       "      <td>1.101192</td>\n",
       "      <td>-0.760271</td>\n",
       "      <td>1.106522</td>\n",
       "      <td>0.471580</td>\n",
       "      <td>-1.654339</td>\n",
       "    </tr>\n",
       "    <tr>\n",
       "      <th>2</th>\n",
       "      <td>-0.735400</td>\n",
       "      <td>1.087442</td>\n",
       "      <td>-1.182620</td>\n",
       "      <td>-0.450134</td>\n",
       "      <td>-0.639364</td>\n",
       "      <td>-0.238149</td>\n",
       "      <td>0.045391</td>\n",
       "      <td>0.849737</td>\n",
       "      <td>-0.784145</td>\n",
       "      <td>-0.576590</td>\n",
       "      <td>...</td>\n",
       "      <td>-1.766205</td>\n",
       "      <td>0.418259</td>\n",
       "      <td>2.197462</td>\n",
       "      <td>-0.133819</td>\n",
       "      <td>-0.422083</td>\n",
       "      <td>0.699439</td>\n",
       "      <td>-0.119825</td>\n",
       "      <td>-0.025478</td>\n",
       "      <td>-0.751724</td>\n",
       "      <td>-0.013726</td>\n",
       "    </tr>\n",
       "    <tr>\n",
       "      <th>3</th>\n",
       "      <td>-0.818824</td>\n",
       "      <td>1.087442</td>\n",
       "      <td>-1.354773</td>\n",
       "      <td>2.028643</td>\n",
       "      <td>-0.661485</td>\n",
       "      <td>0.544034</td>\n",
       "      <td>-1.295379</td>\n",
       "      <td>1.955023</td>\n",
       "      <td>-0.717170</td>\n",
       "      <td>-0.858801</td>\n",
       "      <td>...</td>\n",
       "      <td>1.626604</td>\n",
       "      <td>0.096559</td>\n",
       "      <td>-0.308833</td>\n",
       "      <td>0.374799</td>\n",
       "      <td>-0.522339</td>\n",
       "      <td>-0.520333</td>\n",
       "      <td>-1.468355</td>\n",
       "      <td>1.667375</td>\n",
       "      <td>-2.012132</td>\n",
       "      <td>2.198260</td>\n",
       "    </tr>\n",
       "    <tr>\n",
       "      <th>4</th>\n",
       "      <td>-0.818824</td>\n",
       "      <td>1.087442</td>\n",
       "      <td>0.495868</td>\n",
       "      <td>-0.450134</td>\n",
       "      <td>-0.188096</td>\n",
       "      <td>-0.224956</td>\n",
       "      <td>0.679287</td>\n",
       "      <td>1.140302</td>\n",
       "      <td>0.655224</td>\n",
       "      <td>0.485271</td>\n",
       "      <td>...</td>\n",
       "      <td>1.136586</td>\n",
       "      <td>-0.255621</td>\n",
       "      <td>0.844490</td>\n",
       "      <td>-0.623350</td>\n",
       "      <td>1.510537</td>\n",
       "      <td>-0.916066</td>\n",
       "      <td>1.234783</td>\n",
       "      <td>1.747175</td>\n",
       "      <td>-1.182524</td>\n",
       "      <td>1.181839</td>\n",
       "    </tr>\n",
       "  </tbody>\n",
       "</table>\n",
       "<p>5 rows × 389 columns</p>\n",
       "</div>"
      ],
      "text/plain": [
       "        Age       Sex  Body_Part  Location  Product_1         0         1  \\\n",
       "0 -0.380845 -0.919097   0.797135  2.028643   0.830206 -0.587897 -0.809677   \n",
       "1 -0.255708 -0.919097   0.624982  0.479407   2.139031 -1.090120 -0.228398   \n",
       "2 -0.735400  1.087442  -1.182620 -0.450134  -0.639364 -0.238149  0.045391   \n",
       "3 -0.818824  1.087442  -1.354773  2.028643  -0.661485  0.544034 -1.295379   \n",
       "4 -0.818824  1.087442   0.495868 -0.450134  -0.188096 -0.224956  0.679287   \n",
       "\n",
       "          2         3         4  ...       374       375       376       377  \\\n",
       "0 -0.002741  0.429119 -0.628006  ... -0.186046 -0.222702  0.905786 -0.695474   \n",
       "1 -0.269642 -0.213726 -0.653717  ... -1.247641  0.831428 -0.210775  0.417983   \n",
       "2  0.849737 -0.784145 -0.576590  ... -1.766205  0.418259  2.197462 -0.133819   \n",
       "3  1.955023 -0.717170 -0.858801  ...  1.626604  0.096559 -0.308833  0.374799   \n",
       "4  1.140302  0.655224  0.485271  ...  1.136586 -0.255621  0.844490 -0.623350   \n",
       "\n",
       "        378       379       380       381       382       383  \n",
       "0  0.674217 -0.574596  0.007002 -1.302847 -0.978701 -1.300178  \n",
       "1 -1.319875  1.101192 -0.760271  1.106522  0.471580 -1.654339  \n",
       "2 -0.422083  0.699439 -0.119825 -0.025478 -0.751724 -0.013726  \n",
       "3 -0.522339 -0.520333 -1.468355  1.667375 -2.012132  2.198260  \n",
       "4  1.510537 -0.916066  1.234783  1.747175 -1.182524  1.181839  \n",
       "\n",
       "[5 rows x 389 columns]"
      ]
     },
     "execution_count": 13,
     "metadata": {},
     "output_type": "execute_result"
    }
   ],
   "source": [
    "X_test_final.head(5)\n"
   ]
  },
  {
   "cell_type": "code",
   "execution_count": null,
   "metadata": {},
   "outputs": [
    {
     "data": {
      "text/plain": [
       "array([-1.48388719, -1.44084903, -1.39781088, -1.35477273, -1.31173458,\n",
       "       -1.26869643, -1.22565828, -1.18262013, -1.13958198,  0.45282959,\n",
       "        0.49586774,  0.53890589,  0.62498219,  0.66802035,  0.7110585 ,\n",
       "        0.75409665,  0.7971348 ,  1.01232555,  1.0553637 ,  1.18447815,\n",
       "        1.2275163 ,  1.27055445])"
      ]
     },
     "execution_count": 14,
     "metadata": {},
     "output_type": "execute_result"
    }
   ],
   "source": [
    "scaled_body_parts = X_test_final['Body_Part'].unique()\n",
    "scaled_body_parts.sort()\n",
    "scaled_body_parts"
   ]
  },
  {
   "cell_type": "code",
   "execution_count": null,
   "metadata": {},
   "outputs": [
    {
     "name": "stdout",
     "output_type": "stream",
     "text": [
      "0.68951863 0.9617856\n",
      "0.16811895 0.7241533\n",
      "0.76339394 0.97560763\n",
      "0.7927586 0.9804928\n",
      "0.72279125 0.9792716\n",
      "0.83525884 0.98364496\n",
      "0.85460955 0.99233586\n",
      "0.7927562 0.9863167\n",
      "0.971513 0.9867446\n",
      "0.8203353 0.9721784\n"
     ]
    }
   ],
   "source": [
    "for index, row in X_test_final[:10].iterrows():\n",
    "    prob = []\n",
    "    for body_part in scaled_body_parts:\n",
    "        current_sample = row.copy()\n",
    "        current_sample['Body_Part'] = body_part\n",
    "        # print(current_sample)\n",
    "        prob.append(best_model.predict_proba([current_sample])[0][0])\n",
    "    prob.sort()\n",
    "    print(prob[0], prob[-1]) # min max"
   ]
  },
  {
   "cell_type": "code",
   "execution_count": null,
   "metadata": {},
   "outputs": [],
   "source": [
    "%reset -f"
   ]
  }
 ],
 "metadata": {
  "kernel_info": {
   "name": "python38-azureml"
  },
  "kernelspec": {
   "display_name": "neiss",
   "language": "python",
   "name": "python3"
  },
  "language_info": {
   "codemirror_mode": {
    "name": "ipython",
    "version": 3
   },
   "file_extension": ".py",
   "mimetype": "text/x-python",
   "name": "python",
   "nbconvert_exporter": "python",
   "pygments_lexer": "ipython3",
   "version": "3.12.7"
  },
  "microsoft": {
   "host": {
    "AzureML": {
     "notebookHasBeenCompleted": true
    }
   },
   "ms_spell_check": {
    "ms_spell_check_language": "en"
   }
  },
  "nteract": {
   "version": "nteract-front-end@1.0.0"
  }
 },
 "nbformat": 4,
 "nbformat_minor": 4
}
